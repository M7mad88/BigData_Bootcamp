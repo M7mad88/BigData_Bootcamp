{
 "cells": [
  {
   "cell_type": "code",
   "execution_count": 1,
   "id": "6eea2beb",
   "metadata": {},
   "outputs": [],
   "source": [
    "# Q1. What is the purpose of Python's OOP?"
   ]
  },
  {
   "cell_type": "code",
   "execution_count": 2,
   "id": "64e05013",
   "metadata": {},
   "outputs": [],
   "source": [
    "# The purpose of Python's Object-Oriented Programming (OOP) is to provide a programming paradigm that organizes code in a way\n",
    "# that promotes modularity, reusability, and maintainability. Object-oriented programming is based on the concept of \n",
    "# \"objects,\" which can encapsulate data and behavior.\n",
    "# key purposes of using OOP in Python: *Encapsulation *Inheritance *Abstraction  *Polymorphism"
   ]
  },
  {
   "cell_type": "code",
   "execution_count": 3,
   "id": "7b898a58",
   "metadata": {},
   "outputs": [],
   "source": [
    "# Q2. Where does an inheritance search look for an attribute?"
   ]
  },
  {
   "cell_type": "code",
   "execution_count": 4,
   "id": "c7b69feb",
   "metadata": {},
   "outputs": [
    {
     "name": "stdout",
     "output_type": "stream",
     "text": [
      "B\n"
     ]
    }
   ],
   "source": [
    "# when you access an attribute of an object, the interpreter follows a specific order known as the \"Method Resolution Order\" to\n",
    "# determine which attribute or method to use. The MRO is defined by the inheritance hierarchy \n",
    "# and is based on the classes from which the current class inherits.\n",
    "\n",
    "class A:\n",
    "    def show(self):\n",
    "        print(\"A\")\n",
    "\n",
    "class B(A):\n",
    "    def show(self):\n",
    "        print(\"B\")\n",
    "\n",
    "class C(A):\n",
    "    def show(self):\n",
    "        print(\"C\")\n",
    "\n",
    "class D(B, C):\n",
    "    pass\n",
    "\n",
    "# Create an instance of class D\n",
    "d_instance = D()\n",
    "\n",
    "# When calling the show method, the MRO is followed to find the appropriate implementation\n",
    "d_instance.show()"
   ]
  },
  {
   "cell_type": "code",
   "execution_count": 5,
   "id": "55ed4d96",
   "metadata": {},
   "outputs": [],
   "source": [
    "# Q3. How do you distinguish between a class object and an instance object?"
   ]
  },
  {
   "cell_type": "code",
   "execution_count": 11,
   "id": "0254d7ca",
   "metadata": {},
   "outputs": [
    {
     "name": "stdout",
     "output_type": "stream",
     "text": [
      "I am a class variable\n",
      "This is an instance method. Instance variable: Instance 1\n",
      "None\n"
     ]
    }
   ],
   "source": [
    "# Class object is an object that represents the class itself.It is created when the class is defined.\n",
    "\n",
    "# An instance object is an object created from a class.It represents a specific occurrence of the class and has its own\n",
    "# set of attributes and methods.Each instance has its own state, independent of other instances.\n",
    "\n",
    "class MyClass:\n",
    "    class_variable = \"I am a class variable\"\n",
    "\n",
    "    def __init__(self, instance_variable):\n",
    "        self.instance_variable = instance_variable\n",
    "\n",
    "    def instance_method(self):\n",
    "        print(f\"This is an instance method. Instance variable: {self.instance_variable}\")\n",
    "\n",
    "# Creating an instance of MyClass\n",
    "my_instance = MyClass(\"Instance 1\")\n",
    "\n",
    "\n",
    "print(MyClass.class_variable)\n",
    "print(my_instance.instance_method())"
   ]
  },
  {
   "cell_type": "code",
   "execution_count": 6,
   "id": "69b5bb49",
   "metadata": {},
   "outputs": [],
   "source": [
    "# Q4. What makes the first argument in a class’s method function special?"
   ]
  },
  {
   "cell_type": "code",
   "execution_count": 12,
   "id": "84ffe848",
   "metadata": {},
   "outputs": [],
   "source": [
    "# first parameter in a class method is conventionally named self. This parameter is special because it refers to the instance\n",
    "# of the class itself. While you could technically name it something else, it is a widely followed convention to use self, \n",
    "# and doing so makes your code more readable and maintainable.\n",
    "# Attribute Access"
   ]
  },
  {
   "cell_type": "code",
   "execution_count": 7,
   "id": "cd9dee70",
   "metadata": {},
   "outputs": [],
   "source": [
    "# Q5. What is the purpose of the init method? "
   ]
  },
  {
   "cell_type": "code",
   "execution_count": 13,
   "id": "48d5608f",
   "metadata": {},
   "outputs": [],
   "source": [
    "# The __init__ method in Python is a special method, also known as a constructor. Its primary purpose is to initialize the\n",
    "# attributes of an object when the object is created. The name __init__ stands for \"initialize,\" and it is automatically\n",
    "# called when a new instance of the class is created."
   ]
  },
  {
   "cell_type": "code",
   "execution_count": 8,
   "id": "8065c3c5",
   "metadata": {},
   "outputs": [],
   "source": [
    "# Q6. What is the process for creating a class instance?"
   ]
  },
  {
   "cell_type": "code",
   "execution_count": 14,
   "id": "d7a3dc27",
   "metadata": {},
   "outputs": [
    {
     "name": "stdout",
     "output_type": "stream",
     "text": [
      "My dog's name is LOLO and age is 3\n"
     ]
    }
   ],
   "source": [
    "# step_1: Class Definition\n",
    "class Dog:\n",
    "    # step_2: Constructor (__init__)\n",
    "    def __init__(self, name, age):\n",
    "        # Initializing instance attributes\n",
    "        self.name = name\n",
    "        self.age = age\n",
    "# Step 3: Instance Creation        \n",
    "my_dog= Dog('LOLO',3)\n",
    "\n",
    "print(f\"My dog's name is {my_dog.name} and age is {my_dog.age}\")"
   ]
  },
  {
   "cell_type": "code",
   "execution_count": 9,
   "id": "9a23a3a2",
   "metadata": {},
   "outputs": [],
   "source": [
    "# Q7. What is the process for creating a class?"
   ]
  },
  {
   "cell_type": "code",
   "execution_count": 15,
   "id": "d22161ee",
   "metadata": {},
   "outputs": [],
   "source": [
    "# Step 1: Class Definition\n",
    "class Dog:\n",
    "    \n",
    "     # Step 2: Attributes\n",
    "    breed = \"Unknown\"\n",
    "    sound = \"Woof\"\n",
    "    \n",
    "    # Step 3: Initialization (Optional)\n",
    "    def __init__(self, name, age):\n",
    "        self.name = name\n",
    "        self.age = age\n",
    "\n",
    "    # Step 3: Methods\n",
    "    def bark(self):\n",
    "        print(self.sound)\n",
    "\n",
    "    def set_breed(self, new_breed):\n",
    "        self.breed = new_breed"
   ]
  },
  {
   "cell_type": "code",
   "execution_count": 16,
   "id": "3ea1a1be",
   "metadata": {},
   "outputs": [],
   "source": [
    "# Q8. How would you define the superclasses of a class?"
   ]
  },
  {
   "cell_type": "markdown",
   "id": "3944a0f9",
   "metadata": {},
   "source": [
    "\n",
    "In Python, you can define the superclasses (also known as parent classes or base classes) of a class by specifying them in the class definition using parentheses. When a class inherits from one or more superclasses, it inherits their attributes and methods, allowing for code reuse and hierarchical organization."
   ]
  },
  {
   "cell_type": "code",
   "execution_count": 17,
   "id": "e0690c66",
   "metadata": {},
   "outputs": [],
   "source": [
    "# Q9. What is the relationship between classes and modules?"
   ]
  },
  {
   "cell_type": "markdown",
   "id": "2f758984",
   "metadata": {},
   "source": [
    "The relationship between classes and modules is that classes can be defined inside modules, and modules can contain class definitions along with other code. Classes defined in a module can be imported and used in other modules or scripts where the module is imported."
   ]
  },
  {
   "cell_type": "raw",
   "id": "41285244",
   "metadata": {},
   "source": [
    "# my_module.py\n",
    "\n",
    "class MyClass:\n",
    "    def __init__(self, x):\n",
    "        self.x = x\n",
    "\n",
    "    def method(self):\n",
    "        print(\"Method called\")\n"
   ]
  },
  {
   "cell_type": "code",
   "execution_count": 18,
   "id": "ed35c8c8",
   "metadata": {},
   "outputs": [],
   "source": [
    "# Q10. How do you make instances and classes?"
   ]
  },
  {
   "cell_type": "code",
   "execution_count": 15,
   "id": "673a6469",
   "metadata": {},
   "outputs": [],
   "source": [
    "class Dog:\n",
    "    \"\"\"\n",
    "    This class used for making dogs\n",
    "    \"\"\"\n",
    "    \n",
    "    def __init__(self, breed='bulldog', color='white'):\n",
    "        self.breed = breed\n",
    "        self.color = color\n",
    "        print(f'Dog breed is {self.breed} and its color is {self.color}')"
   ]
  },
  {
   "cell_type": "code",
   "execution_count": 16,
   "id": "0cff2f75",
   "metadata": {},
   "outputs": [
    {
     "name": "stdout",
     "output_type": "stream",
     "text": [
      "Dog breed is bulldog and its color is white\n"
     ]
    }
   ],
   "source": [
    "rex = Dog()"
   ]
  },
  {
   "cell_type": "code",
   "execution_count": 19,
   "id": "a2ff1183",
   "metadata": {},
   "outputs": [],
   "source": [
    "# Q11. Where and how should be class attributes created?"
   ]
  },
  {
   "cell_type": "code",
   "execution_count": 17,
   "id": "2e6b91d0",
   "metadata": {},
   "outputs": [],
   "source": [
    "class Dog:\n",
    "    \"\"\"\n",
    "    This class used for making dogs\n",
    "    \"\"\"\n",
    "    \n",
    "    def __init__(self, breed='bulldog', color='white'):\n",
    "        self.breed = breed\n",
    "        self.color = color\n",
    "        print(f'Dog breed is {self.breed} and its color is {self.color}')"
   ]
  },
  {
   "cell_type": "code",
   "execution_count": 20,
   "id": "dd97434f",
   "metadata": {},
   "outputs": [],
   "source": [
    "# Q12. Where and how are instance attributes created?"
   ]
  },
  {
   "cell_type": "markdown",
   "id": "aa27234d",
   "metadata": {},
   "source": [
    "sama as question 11"
   ]
  },
  {
   "cell_type": "code",
   "execution_count": 22,
   "id": "52b00aa6",
   "metadata": {},
   "outputs": [],
   "source": [
    "# Q13. What does the term \"self\" in a Python class mean?"
   ]
  },
  {
   "cell_type": "code",
   "execution_count": 21,
   "id": "98cd11c2",
   "metadata": {},
   "outputs": [],
   "source": [
    "# In Python, self is a conventionally used name for the first parameter in a class method. It represents the instance of the\n",
    "# class on which the method is called. The use of self helps distinguish instance variables from local variables and allows\n",
    "# you to access the attributes and methods of the class within its own methods.\n",
    "\n",
    "class MyClass:\n",
    "    def __init__(self, value):\n",
    "        # Initializing instance variable\n",
    "        self.value = value\n",
    "\n",
    "    def print_value(self):\n",
    "        # Accessing instance variable using self\n",
    "        print(f\"Instance value: {self.value}\")\n",
    "\n",
    "# Creating an instance of MyClass\n",
    "my_instance = MyClass(42)"
   ]
  },
  {
   "cell_type": "code",
   "execution_count": 23,
   "id": "3a29e99b",
   "metadata": {},
   "outputs": [],
   "source": [
    "# Q14. How does a Python class handle operator overloading?"
   ]
  },
  {
   "cell_type": "code",
   "execution_count": 42,
   "id": "4b9988be",
   "metadata": {},
   "outputs": [
    {
     "name": "stdout",
     "output_type": "stream",
     "text": [
      "Point(4, 6)\n"
     ]
    }
   ],
   "source": [
    "class Point:\n",
    "    def __init__(self, x, y):\n",
    "        self.x = x\n",
    "        self.y = y\n",
    "\n",
    "    def __add__(self, other):\n",
    "        # Overloading the addition operator\n",
    "        if isinstance(other, Point):\n",
    "            return Point(self.x + other.x, self.y + other.y)\n",
    "        else:\n",
    "            raise TypeError(\"Unsupported operand type for +: {}\".format(type(other)))\n",
    "\n",
    "    def __str__(self):\n",
    "        # Overloading the str() function\n",
    "        return \"Point({}, {})\".format(self.x, self.y)\n",
    "\n",
    "# Creating instances of Point\n",
    "point1 = Point(1, 2)\n",
    "point2 = Point(3, 4)\n",
    "\n",
    "# Using the overloaded addition operator\n",
    "result = point1 + point2\n",
    "print(result)  # Output: Point(4, 6)"
   ]
  },
  {
   "cell_type": "code",
   "execution_count": 24,
   "id": "8bd23145",
   "metadata": {},
   "outputs": [],
   "source": [
    "# Q15. When do you consider allowing operator overloading of your classes?"
   ]
  },
  {
   "cell_type": "markdown",
   "id": "39c3adce",
   "metadata": {},
   "source": [
    "In Python, built in function like len it can be used on different data structures with also operator overloading allows customizing the behavior of built-in operators (like +, -, *, /, etc.) for user-defined classes"
   ]
  },
  {
   "cell_type": "code",
   "execution_count": 25,
   "id": "f3197863",
   "metadata": {},
   "outputs": [],
   "source": [
    "# Q16. What is the most popular form of operator overloading?"
   ]
  },
  {
   "cell_type": "markdown",
   "id": "87d91fce",
   "metadata": {},
   "source": [
    "built in function"
   ]
  },
  {
   "cell_type": "code",
   "execution_count": 26,
   "id": "7eeedd96",
   "metadata": {},
   "outputs": [],
   "source": [
    "# Q17. What are the two most important concepts to grasp in order to comprehend Python OOP code?"
   ]
  },
  {
   "cell_type": "markdown",
   "id": "4098dc53",
   "metadata": {},
   "source": [
    "1) Classes and bjects\n",
    "\n",
    "2) Inheritance and Polymorphism"
   ]
  },
  {
   "cell_type": "code",
   "execution_count": 27,
   "id": "7e351e62",
   "metadata": {},
   "outputs": [],
   "source": [
    "# Q18. Describe three applications for exception processing."
   ]
  },
  {
   "cell_type": "markdown",
   "id": "21a66521",
   "metadata": {},
   "source": [
    "1) Input Validation and Error Handling\n",
    "\n",
    "2) File I/O Operations\n",
    "\n",
    "3) Network and Database Operations"
   ]
  },
  {
   "cell_type": "code",
   "execution_count": 28,
   "id": "36dd8238",
   "metadata": {},
   "outputs": [],
   "source": [
    "# Q19. What happens if you don't do something extra to treat an exception?"
   ]
  },
  {
   "cell_type": "markdown",
   "id": "a8092f07",
   "metadata": {},
   "source": [
    "An Error will occurs and crash the system"
   ]
  },
  {
   "cell_type": "code",
   "execution_count": 29,
   "id": "b259490e",
   "metadata": {},
   "outputs": [],
   "source": [
    "# Q20. What are your options for recovering from an exception in your script?"
   ]
  },
  {
   "cell_type": "markdown",
   "id": "ba9e09ff",
   "metadata": {},
   "source": [
    "1)  `try`, `except`\n",
    "\n",
    "2)  `else`\n",
    "3)  `finally`"
   ]
  },
  {
   "cell_type": "code",
   "execution_count": 30,
   "id": "9135c418",
   "metadata": {},
   "outputs": [],
   "source": [
    "# Q21. Describe two methods for triggering exceptions in your script."
   ]
  },
  {
   "cell_type": "code",
   "execution_count": 4,
   "id": "1234309f",
   "metadata": {},
   "outputs": [
    {
     "name": "stdout",
     "output_type": "stream",
     "text": [
      "start\n",
      "probelem happens\n",
      "finish\n"
     ]
    }
   ],
   "source": [
    "print('start')\n",
    "\n",
    "try:\n",
    "    print(5/0)\n",
    "except:\n",
    "    print('probelem happens')\n",
    "    \n",
    "print('finish')"
   ]
  },
  {
   "cell_type": "code",
   "execution_count": 5,
   "id": "91ca94d1",
   "metadata": {},
   "outputs": [],
   "source": [
    "try:\n",
    "    f = open('testfile.txt','w')\n",
    "    f.write('Test write this')\n",
    "except IOError:\n",
    "    # This will only check for an IOError exception and then execute this print statement\n",
    "    print(\"Error: Could not find file or read data\")\n",
    "f.close()"
   ]
  },
  {
   "cell_type": "code",
   "execution_count": 32,
   "id": "2c916300",
   "metadata": {},
   "outputs": [],
   "source": [
    "# Q22. Identify two methods for specifying actions to be executed at termination time, regardless of\n",
    "# whether or not an exception exists."
   ]
  },
  {
   "cell_type": "raw",
   "id": "66dc855a",
   "metadata": {},
   "source": [
    "try:\n",
    "    # Code that might raise an exception\n",
    "    file = open(\"example.txt\", \"r\")\n",
    "    content = file.read()\n",
    "    print(content)\n",
    "except FileNotFoundError:\n",
    "    print(\"File not found\")\n",
    "finally:\n",
    "    # Code that should always run\n",
    "    if 'file' in locals():\n",
    "        file.close()"
   ]
  },
  {
   "cell_type": "code",
   "execution_count": 33,
   "id": "4cd35ef8",
   "metadata": {},
   "outputs": [],
   "source": [
    "# Q23. What is the purpose of the try statement?"
   ]
  },
  {
   "cell_type": "markdown",
   "id": "ff46c22a",
   "metadata": {},
   "source": [
    "The purpose of the try statement in Python is to define a block of code in which exceptions may occur. It allows you to handle exceptions gracefully by providing a structured way to catch and handle errors that may arise during the execution of the code."
   ]
  },
  {
   "cell_type": "code",
   "execution_count": 34,
   "id": "4538e930",
   "metadata": {},
   "outputs": [],
   "source": [
    "# Q24. What are the two most popular try statement variations?"
   ]
  },
  {
   "cell_type": "raw",
   "id": "31b8ed55",
   "metadata": {},
   "source": [
    "try-except: This variation is used to catch and handle exceptions that might occur within a block of code. It allows you to  specify one or more except blocks to handle different types of exceptions that may arise during the execution of the try block. "
   ]
  },
  {
   "cell_type": "raw",
   "id": "1b4a44f2",
   "metadata": {},
   "source": [
    "try-finally: This variation is used to ensure that certain cleanup actions are performed, regardless of whether an exception occurs within the try block. The finally block is executed after the try block, regardless of whether an exception is raised or not. It's commonly used for releasing resources or closing connections that need to be cleaned up regardless of the outcome of the operation."
   ]
  },
  {
   "cell_type": "code",
   "execution_count": 35,
   "id": "c44d2407",
   "metadata": {},
   "outputs": [],
   "source": [
    "# Q25. What is the purpose of the raise statement?"
   ]
  },
  {
   "cell_type": "markdown",
   "id": "cdcf486f",
   "metadata": {},
   "source": [
    "The purpose of the raise statement in Python is to explicitly raise an exception. This allows you to signal that an exceptional condition has occurred within your code, even if it's not due to a built-in error condition like division by zero or file not found."
   ]
  },
  {
   "cell_type": "code",
   "execution_count": 6,
   "id": "352c09aa",
   "metadata": {},
   "outputs": [
    {
     "name": "stdout",
     "output_type": "stream",
     "text": [
      "Error occurred: Cannot divide by zero\n"
     ]
    }
   ],
   "source": [
    "def divide(x, y):\n",
    "    if y == 0:\n",
    "        raise ValueError(\"Cannot divide by zero\")\n",
    "    return x / y\n",
    "\n",
    "try:\n",
    "    result = divide(10, 0)\n",
    "    print(\"Result:\", result)\n",
    "except ValueError as e:\n",
    "    print(\"Error occurred:\", e)"
   ]
  },
  {
   "cell_type": "code",
   "execution_count": 36,
   "id": "fb9b1720",
   "metadata": {},
   "outputs": [],
   "source": [
    "# Q26. What does the assert statement do, and what other statement is it like?"
   ]
  },
  {
   "cell_type": "markdown",
   "id": "f8714339",
   "metadata": {},
   "source": [
    "\n",
    "The assert statement in Python is used to test whether a given condition evaluates to True. If the condition is False, the assert statement raises an AssertionError exception with an optional error message."
   ]
  },
  {
   "cell_type": "code",
   "execution_count": 37,
   "id": "0393f9c3",
   "metadata": {},
   "outputs": [],
   "source": [
    "# Q27. What is the purpose of the with/as argument, and what other statement is it like?"
   ]
  },
  {
   "cell_type": "markdown",
   "id": "984c7b5d",
   "metadata": {},
   "source": [
    "used to declare  alias\n",
    "\n",
    "with open(\"example.txt\", \"r\") as file:\n",
    "    content = file.read()\n",
    "    print(content)\n",
    "    \n"
   ]
  },
  {
   "cell_type": "code",
   "execution_count": 38,
   "id": "43f58d4b",
   "metadata": {},
   "outputs": [],
   "source": [
    "# Q28. What are *args, **kwargs?"
   ]
  },
  {
   "cell_type": "markdown",
   "id": "91226c53",
   "metadata": {},
   "source": [
    "*args: This syntax is used to pass a variable number of positional arguments to a function. The *args parameter collects all positional arguments passed to the function into a tuple. Within the function body, you can then iterate over this tuple to access the individual arguments.\n",
    "\n",
    "**kwargs: This syntax is used to pass a variable number of keyword arguments (key-value pairs) to a function. The **kwargs parameter collects all keyword arguments passed to the function into a dictionary, where the keys are the argument names and the values are the corresponding values."
   ]
  },
  {
   "cell_type": "code",
   "execution_count": 39,
   "id": "381bd938",
   "metadata": {},
   "outputs": [],
   "source": [
    "# Q29. How can I pass optional or keyword parameters from one function to another?"
   ]
  },
  {
   "cell_type": "code",
   "execution_count": 7,
   "id": "8550fc6f",
   "metadata": {},
   "outputs": [
    {
     "name": "stdout",
     "output_type": "stream",
     "text": [
      "a: 1, b: 2, c: 3\n"
     ]
    }
   ],
   "source": [
    "def func1(*args):\n",
    "    func2(*args)\n",
    "\n",
    "def func2(a, b, c):\n",
    "    print(f\"a: {a}, b: {b}, c: {c}\")\n",
    "\n",
    "func1(1, 2, 3)  # Passes optional positional arguments to func2\n"
   ]
  },
  {
   "cell_type": "code",
   "execution_count": 8,
   "id": "71a7dda3",
   "metadata": {},
   "outputs": [
    {
     "name": "stdout",
     "output_type": "stream",
     "text": [
      "a: 1, b: 2, c: 3\n"
     ]
    }
   ],
   "source": [
    "def func1(*args, **kwargs):\n",
    "    func2(*args, **kwargs)\n",
    "\n",
    "def func2(a, b, c):\n",
    "    print(f\"a: {a}, b: {b}, c: {c}\")\n",
    "\n",
    "func1(1, 2, c=3)"
   ]
  },
  {
   "cell_type": "code",
   "execution_count": 40,
   "id": "1d6fcb98",
   "metadata": {},
   "outputs": [],
   "source": [
    "# Q30. What are Lambda Functions?"
   ]
  },
  {
   "cell_type": "markdown",
   "id": "67fd29e0",
   "metadata": {},
   "source": [
    "Lambda functions, also known as anonymous functions or lambda expressions, are small, inline functions that are defined using the lambda keyword in Python. They are a way to create functions without a formal def statement.\n",
    "\n",
    "Lambda functions are typically used for short, simple operations that can be expressed in a single line of code. They are often used in conjunction with higher-order functions like map(), filter(), and reduce(), or in situations where you need to pass a function as an argument to another function."
   ]
  },
  {
   "cell_type": "code",
   "execution_count": 41,
   "id": "df3aa7e3",
   "metadata": {},
   "outputs": [],
   "source": [
    "# Q31. Explain Inheritance in Python with an example?"
   ]
  },
  {
   "cell_type": "code",
   "execution_count": 9,
   "id": "38d39cfc",
   "metadata": {},
   "outputs": [
    {
     "name": "stdout",
     "output_type": "stream",
     "text": [
      "Buddy\n",
      "Woof!\n",
      "Whiskers\n",
      "Meow!\n"
     ]
    }
   ],
   "source": [
    "class Animal:\n",
    "    def __init__(self, name):\n",
    "        self.name = name\n",
    "\n",
    "    def speak(self):\n",
    "        pass  # Placeholder method to be overridden by subclasses\n",
    "\n",
    "\n",
    "class Dog(Animal):\n",
    "    def speak(self):\n",
    "        return \"Woof!\"\n",
    "\n",
    "\n",
    "class Cat(Animal):\n",
    "    def speak(self):\n",
    "        return \"Meow!\"\n",
    "\n",
    "\n",
    "dog = Dog(\"Buddy\")\n",
    "cat = Cat(\"Whiskers\")\n",
    "\n",
    "print(dog.name)  # Output: Buddy\n",
    "print(dog.speak())  # Output: Woof!\n",
    "\n",
    "print(cat.name)  # Output: Whiskers\n",
    "print(cat.speak())  # Output: Meow!\n"
   ]
  },
  {
   "cell_type": "code",
   "execution_count": null,
   "id": "46eccbab",
   "metadata": {},
   "outputs": [],
   "source": [
    "# Q32. Suppose class C inherits from classes A and B as class C(A,B).Classes A and B both have their own versions of method\n",
    "# func(). If we call func() from an object of class C, which version gets invoked?"
   ]
  },
  {
   "cell_type": "code",
   "execution_count": 10,
   "id": "3927f2d7",
   "metadata": {},
   "outputs": [],
   "source": [
    "class A:\n",
    "    def func(self):\n",
    "        return \"Method from class A\"\n",
    "\n",
    "class B:\n",
    "    def func(self):\n",
    "        return \"Method from class B\"\n",
    "\n",
    "class C(A, B):\n",
    "    pass\n"
   ]
  },
  {
   "cell_type": "code",
   "execution_count": 43,
   "id": "49b2f5c2",
   "metadata": {},
   "outputs": [],
   "source": [
    "# Q33. Which methods/functions do we use to determine the type of instance and inheritance?"
   ]
  },
  {
   "cell_type": "code",
   "execution_count": 11,
   "id": "f3501a4d",
   "metadata": {},
   "outputs": [
    {
     "name": "stdout",
     "output_type": "stream",
     "text": [
      "<class '__main__.MyClass'>\n"
     ]
    }
   ],
   "source": [
    "class MyClass:\n",
    "    pass\n",
    "\n",
    "obj = MyClass()\n",
    "print(type(obj))  # Output: <class '__main__.MyClass'>\n"
   ]
  },
  {
   "cell_type": "code",
   "execution_count": 12,
   "id": "0afc721b",
   "metadata": {},
   "outputs": [
    {
     "name": "stdout",
     "output_type": "stream",
     "text": [
      "True\n"
     ]
    }
   ],
   "source": [
    "class Parent:\n",
    "    pass\n",
    "\n",
    "class Child(Parent):\n",
    "    pass\n",
    "\n",
    "obj = Child()\n",
    "print(isinstance(obj, Parent))  # Output: True"
   ]
  },
  {
   "cell_type": "code",
   "execution_count": 44,
   "id": "2e452169",
   "metadata": {},
   "outputs": [],
   "source": [
    "# Q34.Explain the use of the 'nonlocal' keyword in Python."
   ]
  },
  {
   "cell_type": "markdown",
   "id": "6e987c56",
   "metadata": {},
   "source": [
    "In Python, the nonlocal keyword is used to declare that a variable inside a nested function (a function defined within another function) should not be local to that function. Instead, it should refer to the variable in the nearest enclosing scope that is not global"
   ]
  },
  {
   "cell_type": "code",
   "execution_count": 13,
   "id": "a0cd77af",
   "metadata": {},
   "outputs": [
    {
     "name": "stdout",
     "output_type": "stream",
     "text": [
      "Inner function: 15\n",
      "Outer function: 15\n"
     ]
    }
   ],
   "source": [
    "def outer_function():\n",
    "    x = 10\n",
    "\n",
    "    def inner_function():\n",
    "        nonlocal x\n",
    "        x += 5\n",
    "        print(\"Inner function:\", x)\n",
    "\n",
    "    inner_function()\n",
    "    print(\"Outer function:\", x)\n",
    "\n",
    "outer_function()\n"
   ]
  },
  {
   "cell_type": "code",
   "execution_count": 46,
   "id": "37182d19",
   "metadata": {},
   "outputs": [],
   "source": [
    "# Q35. What is the global keyword?"
   ]
  },
  {
   "cell_type": "markdown",
   "id": "1e476d54",
   "metadata": {},
   "source": [
    "n Python, the global keyword is used to declare that a variable inside a function should refer to the global variable with the same name, rather than creating a new local variable. It allows you to modify global variables from within a function's scope."
   ]
  },
  {
   "cell_type": "code",
   "execution_count": 14,
   "id": "ff34be9d",
   "metadata": {},
   "outputs": [
    {
     "name": "stdout",
     "output_type": "stream",
     "text": [
      "Inside the function: 15\n",
      "Outside the function: 15\n"
     ]
    }
   ],
   "source": [
    "x = 10  # Global variable\n",
    "\n",
    "def modify_global():\n",
    "    global x\n",
    "    x += 5\n",
    "    print(\"Inside the function:\", x)\n",
    "\n",
    "modify_global()\n",
    "print(\"Outside the function:\", x)\n"
   ]
  }
 ],
 "metadata": {
  "kernelspec": {
   "display_name": "Python 3 (ipykernel)",
   "language": "python",
   "name": "python3"
  },
  "language_info": {
   "codemirror_mode": {
    "name": "ipython",
    "version": 3
   },
   "file_extension": ".py",
   "mimetype": "text/x-python",
   "name": "python",
   "nbconvert_exporter": "python",
   "pygments_lexer": "ipython3",
   "version": "3.9.12"
  }
 },
 "nbformat": 4,
 "nbformat_minor": 5
}
