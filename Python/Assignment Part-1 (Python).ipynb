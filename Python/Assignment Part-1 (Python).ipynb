{
 "cells": [
  {
   "cell_type": "code",
   "execution_count": 1,
   "id": "7c9e81b8",
   "metadata": {},
   "outputs": [],
   "source": [
    "# Q1 Why do we call Python as a general purpose and high-level programming language?"
   ]
  },
  {
   "cell_type": "raw",
   "id": "425205c4",
   "metadata": {},
   "source": [
    "1) Mulitasking: It's used in almost every filed like Data science , web (Django) , Game (Pygame) and AI.\n",
    "    \n",
    "2) Huge community: If you don`t get support from other specialists, your learning path can be difficult.Even \n",
    "if you only have basic knowledge of the Python language, \n",
    "you can already use if for Machine Learning because of the huge number of libraries, resources, and tools available for you.\n",
    "\n",
    "3) Interpreted and Dynamically Typed: Python is an interpreted language, meaning that code can be executed directly without \n",
    "the need for compilation. This makes the development process faster and more interactive.Python is dynamically typed, \n",
    "allowing variables to change types during runtime, providing flexibility but also requiring less explicit type declarations.\n",
    "\n",
    "4) Cross-Platform Compatibility: Python is a cross-platform language, enabling code written on one operating system to run\n",
    "on others with minimal or no modifications.\n",
    "\n",
    "5) High-Level Abstraction: Python abstracts many low-level details, allowing developers to focus on solving problems rather than\n",
    "dealing with complex system-specific issues. This high-level abstraction simplifies the development process and reduces the \n",
    "time and effort required to write code.\n",
    "\n",
    "6) Python support Object Oreinted Programming (OOP)"
   ]
  },
  {
   "cell_type": "code",
   "execution_count": 2,
   "id": "f205e0e2",
   "metadata": {},
   "outputs": [],
   "source": [
    "# Q2. Why is Python called a dynamically typed language?"
   ]
  },
  {
   "cell_type": "raw",
   "id": "19f09cc8",
   "metadata": {},
   "source": [
    "Python is dynamically typed, allowing variables to change types during runtime, providing flexibility but also requiring\n",
    "less explicit type declarations.\n",
    "\n",
    "# Dynamic typing example in Python\n",
    "\n",
    "# Assigning an integer to a variable\n",
    "my_variable = 42\n",
    "\n",
    "# Reassigning the variable to a string\n",
    "my_variable = \"Hello, I'm mohammed from Egypt\""
   ]
  },
  {
   "cell_type": "code",
   "execution_count": null,
   "id": "0a8caa97",
   "metadata": {},
   "outputs": [],
   "source": [
    "# Q3. List some pros and cons of Python programming language?"
   ]
  },
  {
   "cell_type": "raw",
   "id": "a6ea4127",
   "metadata": {},
   "source": [
    "# Pros:\n",
    "\n",
    "1) Readability and Simplicity: Python's syntax is clear and readable, making it easy for beginners to learn and understand.\n",
    "\n",
    "2) Versatility and General Purpose: Python is a versatile language used in various domains, including web development, \n",
    "data science, machine learning, artificial intelligence, scripting, and more.\n",
    "\n",
    "3) Community and Documentation: Python has a large and active community that contributes to a wealth of resources, libraries,\n",
    "and frameworks. The documentation is extensive and well-maintained.\n",
    "\n",
    "4) Interpreted and Dynamically Typed: Python's interpreted nature allows for quick development and testing. Dynamic typing provides flexibility and allows for more rapid prototyping.\n",
    "\n",
    "5) Cross-Platform Compatibility: Python is a cross-platform language, enabling code written on one operating system to run\n",
    "on others with minimal or no modifications.\n",
    "\n",
    "6) High-Level Abstraction: Python abstracts many low-level details, allowing developers to focus on solving problems rather than\n",
    "dealing with complex system-specific issues. This high-level abstraction simplifies the development process and reduces the \n",
    "time and effort required to write code.\n",
    "\n",
    "7) Python support Object Oreinted Programming (OOP)\n",
    "\n",
    "# Cons:\n",
    "\n",
    "1) Performance: Python may not be as fast as lower-level languages like C or C++. While performance has improved, it may not be\n",
    "the best choice for performance-critical applications.\n",
    "\n",
    "2) Memory Consumption:Python may consume more memory compared to languages like C or C++. This can be a concern in \n",
    "resource-constrained environments.\n",
    "\n",
    "3) Not Ideal for Mobile and Game Development: Python is not the first choice for resource-intensive tasks like game development \n",
    "or mobile app development where low-level control is crucial.\n"
   ]
  },
  {
   "cell_type": "code",
   "execution_count": 3,
   "id": "e6aa4afd",
   "metadata": {},
   "outputs": [],
   "source": [
    "# Q4. In what all domains can we use Python?"
   ]
  },
  {
   "cell_type": "raw",
   "id": "485a1917",
   "metadata": {},
   "source": [
    "Data Science\n",
    "Artificail Intelligence\n",
    "Machine Learning\n",
    "Data Analayst\n",
    "Web Application\n",
    "Date Mining\n",
    "Desktop Applications\n",
    "Console-based Applications\n",
    "Mobile Applications\n",
    "Software Development"
   ]
  },
  {
   "cell_type": "code",
   "execution_count": 4,
   "id": "6caf019c",
   "metadata": {},
   "outputs": [],
   "source": [
    "# Q5. What are variable and how can we declare them?"
   ]
  },
  {
   "cell_type": "raw",
   "id": "77ed1578",
   "metadata": {},
   "source": [
    "Variable is a name that is used to refer to memory location. Python variable is also known as an identifier \n",
    "and used to hold value.\n",
    "\n",
    "# Declare varible \n",
    "x=5"
   ]
  },
  {
   "cell_type": "code",
   "execution_count": 5,
   "id": "142ce106",
   "metadata": {},
   "outputs": [],
   "source": [
    "# Q6. How can we take an input from the user in Python?"
   ]
  },
  {
   "cell_type": "raw",
   "id": "cc32e6ab",
   "metadata": {},
   "source": [
    "# Taking input from the user\n",
    "user_input = input(\"Enter something: \")\n",
    "\n",
    "# The input function always returns a String"
   ]
  },
  {
   "cell_type": "code",
   "execution_count": 6,
   "id": "fbcbd3c8",
   "metadata": {},
   "outputs": [],
   "source": [
    "# Q7. What is the default datatype of the value that has been taken as an input using input() function?"
   ]
  },
  {
   "cell_type": "raw",
   "id": "911224a7",
   "metadata": {},
   "source": [
    "The input function always returns a String"
   ]
  },
  {
   "cell_type": "code",
   "execution_count": 10,
   "id": "c6495621",
   "metadata": {},
   "outputs": [],
   "source": [
    "# Q8. What is type casting?"
   ]
  },
  {
   "cell_type": "raw",
   "id": "8dfaca2d",
   "metadata": {},
   "source": [
    "type casting is mean type conversion \n",
    "# Ex \n",
    "x = 14.5     # float\n",
    "\n",
    "# Convert float to integer\n",
    "y = int(x)\n",
    "\n",
    "print(y)      # Output: 14"
   ]
  },
  {
   "cell_type": "code",
   "execution_count": 9,
   "id": "380fcdcf",
   "metadata": {},
   "outputs": [],
   "source": [
    "# Q9. Can we take more than one input from the user using single input() function? If yes, how? If no, why?"
   ]
  },
  {
   "cell_type": "raw",
   "id": "24186d47",
   "metadata": {},
   "source": [
    "Yes we can.\n",
    "\n",
    "# Taking multiple inputs in a single line\n",
    "user_input = input(\"Enter two numbers separated by a space: \")\n",
    "num1, num2 = map(int, user_input.split())\n",
    "\n",
    "# Taking multiple inputs using separate input statements\n",
    "name = input(\"Enter your name: \")\n",
    "age = int(input(\"Enter your age: \"))"
   ]
  },
  {
   "cell_type": "code",
   "execution_count": 11,
   "id": "de2441cc",
   "metadata": {},
   "outputs": [],
   "source": [
    "# Q10. What are keywords?"
   ]
  },
  {
   "cell_type": "raw",
   "id": "fa97dcdc",
   "metadata": {},
   "source": [
    "Keywords in programming are reserved words that have special meanings and cannot be used as identifiers \n",
    "(such as variable names or function names) in the code."
   ]
  },
  {
   "cell_type": "code",
   "execution_count": 13,
   "id": "842dc2e0",
   "metadata": {},
   "outputs": [],
   "source": [
    "# Q11. Can we use keywords as a variable? Support your answer with reason."
   ]
  },
  {
   "cell_type": "raw",
   "id": "0629ab62",
   "metadata": {},
   "source": [
    "NO, we can not.\n",
    "# Trying to use a keyword as a variable\n",
    "class = \"Myclass\"  # This will raise a syntax error"
   ]
  },
  {
   "cell_type": "code",
   "execution_count": 14,
   "id": "5fa1b785",
   "metadata": {},
   "outputs": [],
   "source": [
    "# Q12. What is indentation? What's the use of indentaion in Python?"
   ]
  },
  {
   "cell_type": "raw",
   "id": "573e4e72",
   "metadata": {},
   "source": [
    "Indentation in Python refers to the spaces or tabs at the beginning of a line of code to signify a block of code.\n",
    "Python uses indentation to indicate the structure of the code.\n",
    "\n",
    "# Ex\n",
    "\n",
    "if True:\n",
    "    print(\"This is indented\")\n",
    "else:\n",
    "    print(\"This is not indented\")"
   ]
  },
  {
   "cell_type": "code",
   "execution_count": 15,
   "id": "009528c7",
   "metadata": {},
   "outputs": [],
   "source": [
    "# Q13. How can we throw some output in Python?"
   ]
  },
  {
   "cell_type": "raw",
   "id": "066197c7",
   "metadata": {},
   "source": [
    "use the built-in function  print()  to display output to the console.\n",
    "    \n",
    "# EXample \n",
    "print('Hello World')"
   ]
  },
  {
   "cell_type": "code",
   "execution_count": 16,
   "id": "b5ceb67d",
   "metadata": {},
   "outputs": [],
   "source": [
    "# Q14. What are operators in Python?"
   ]
  },
  {
   "cell_type": "raw",
   "id": "70a97bd9",
   "metadata": {},
   "source": [
    "are special symbols or keywords that are used to perform operations on operands.\n",
    "Operands are the values or variables on which the operations are applied. \n",
    "\n",
    "we have 3 types of Arithmetic Operators:\n",
    "1) Arithmetic\n",
    "2) Comparison\n",
    "3) Logical"
   ]
  },
  {
   "cell_type": "code",
   "execution_count": 17,
   "id": "82aed95f",
   "metadata": {},
   "outputs": [],
   "source": [
    "# Q15. What is difference between / and // operators?"
   ]
  },
  {
   "cell_type": "raw",
   "id": "508a2e71",
   "metadata": {},
   "source": [
    "The single slash (/) is the regular division operator.\n",
    "The double slash (//) is the floor division operator.\n",
    "# Example\n",
    "\n",
    "result = 7 / 3\n",
    "print(result)  # Output: 2.3333333333333335 (Float)\n",
    "\n",
    "result = 7 // 3\n",
    "print(result)  # Output: 2 (Integer)"
   ]
  },
  {
   "cell_type": "code",
   "execution_count": null,
   "id": "2c322cce",
   "metadata": {},
   "outputs": [],
   "source": [
    "# Q16. Write a code that gives following as an output.\n",
    "\n",
    "```\n",
    "iNeuroniNeuroniNeuroniNeuron\n",
    "```"
   ]
  },
  {
   "cell_type": "code",
   "execution_count": 28,
   "id": "5f4e54e9",
   "metadata": {},
   "outputs": [
    {
     "name": "stdout",
     "output_type": "stream",
     "text": [
      "iNeuroniNeuroniNeuroniNeuron\n"
     ]
    }
   ],
   "source": [
    "s= 'iNeuron'\n",
    "print(s*4)"
   ]
  },
  {
   "cell_type": "code",
   "execution_count": 23,
   "id": "6c420bf4",
   "metadata": {},
   "outputs": [],
   "source": [
    "# Q17. Write a code to take a number as an input from the user and check if the number is odd or even."
   ]
  },
  {
   "cell_type": "code",
   "execution_count": 27,
   "id": "a447cd93",
   "metadata": {},
   "outputs": [
    {
     "name": "stdout",
     "output_type": "stream",
     "text": [
      "Please enter a number4\n",
      "4  ,is even number\n"
     ]
    }
   ],
   "source": [
    "num=int(input('Please enter a number'))\n",
    "\n",
    "# check the number is even or odd\n",
    "\n",
    "if num%2==0:\n",
    "    print(num,' ,is even number')\n",
    "else:\n",
    "    print(num,' ,is odd number')"
   ]
  },
  {
   "cell_type": "code",
   "execution_count": 29,
   "id": "b0e0686f",
   "metadata": {},
   "outputs": [],
   "source": [
    "# Q18. What are boolean operator?"
   ]
  },
  {
   "cell_type": "raw",
   "id": "afd06e4f",
   "metadata": {},
   "source": [
    "Boolean operators in programming are logical operators that perform operations on Boolean values (True or False).\n",
    "\n",
    "result = True and False\n",
    "print(result)  # Output: False\n",
    "\n",
    "result = True or False\n",
    "print(result)  # Output: True\n",
    "\n",
    "result = not True\n",
    "print(result)  # Output: False"
   ]
  },
  {
   "cell_type": "code",
   "execution_count": null,
   "id": "0eed6287",
   "metadata": {},
   "outputs": [],
   "source": [
    "# Q19. What will the output of the following?\n",
    "```\n",
    "1 or 0\n",
    "\n",
    "0 and 0\n",
    "\n",
    "True and False and True\n",
    "\n",
    "1 or 0 or 0\n",
    "```"
   ]
  },
  {
   "cell_type": "raw",
   "id": "9a7c4e90",
   "metadata": {},
   "source": [
    "1 or 0  (output: 1)\n",
    "\n",
    "0 and 0 (output: 0)\n",
    " \n",
    "True and False and True (output: False)\n",
    "\n",
    "1 or 0 or 0 (output: 1)"
   ]
  },
  {
   "cell_type": "code",
   "execution_count": 34,
   "id": "dd69a2ea",
   "metadata": {},
   "outputs": [],
   "source": [
    "# Q20. What are conditional statements in Python?"
   ]
  },
  {
   "cell_type": "code",
   "execution_count": null,
   "id": "cc51e38c",
   "metadata": {},
   "outputs": [],
   "source": [
    "Conditional statements in Python are used to control the flow of a program based on certain conditions.\n",
    "\n",
    "# Example\n",
    "x = 0\n",
    "if x > 0:\n",
    "    print(\"x is positive.\")\n",
    "elif x < 0:\n",
    "    print(\"x is negative.\")\n",
    "else:\n",
    "    print(\"x is zero.\")"
   ]
  },
  {
   "cell_type": "code",
   "execution_count": 35,
   "id": "a5264fd3",
   "metadata": {},
   "outputs": [],
   "source": [
    "# Q21. What is use of 'if', 'elif' and 'else' keywords?"
   ]
  },
  {
   "cell_type": "raw",
   "id": "4e4a84a5",
   "metadata": {},
   "source": [
    "if: The 'if' keyword is used to execute a block of code if a specified condition is true. If the condition is false, \n",
    "the block is skipped.It is often the first condition checked in a series of conditions.\n",
    "\n",
    "elif: The 'elif' keyword is short for \"else if.\" It is used to test additional conditions after the initial 'if' condition.\n",
    "If the 'if' condition is false, the program checks the 'elif' conditions one by one until a true condition is found.\n",
    "\n",
    "else: The 'else' keyword is used to provide a default block of code that is executed when none of the preceding conditions\n",
    "(in 'if' and 'elif') are true. It is optional and appears at the end of the conditional statement."
   ]
  },
  {
   "cell_type": "code",
   "execution_count": 36,
   "id": "56ac51a3",
   "metadata": {},
   "outputs": [],
   "source": [
    "# Q22. Write a code to take the age of person as an input and if age >= 18 display \"I can vote\".\n",
    "# If age is < 18 display \"I can't vote\"."
   ]
  },
  {
   "cell_type": "code",
   "execution_count": 41,
   "id": "677b3822",
   "metadata": {},
   "outputs": [
    {
     "name": "stdout",
     "output_type": "stream",
     "text": [
      "Please enter your age0\n",
      "I can't vote\n"
     ]
    }
   ],
   "source": [
    "age= int(input('Please enter your age'))\n",
    "\n",
    "if age>= 18:\n",
    "    print('I can vote')\n",
    "else:\n",
    "    print(\"I can't vote\")"
   ]
  },
  {
   "cell_type": "raw",
   "id": "0b6d181f",
   "metadata": {},
   "source": [
    "# Q23. Write a code that displays the sum of all the even numbers from the given list.\n",
    "```\n",
    "numbers = [12, 75, 150, 180, 145, 525, 50]\n",
    "```"
   ]
  },
  {
   "cell_type": "code",
   "execution_count": null,
   "id": "07addbf0",
   "metadata": {},
   "outputs": [],
   "source": [
    "even_sum = 0\n",
    "\n",
    "# Iterate through the numbers in the list\n",
    "for number in numbers:\n",
    "    # Check if the number is even\n",
    "    if number % 2 == 0:\n",
    "        even_sum += number\n",
    "print(\"Sum of even numbers:\", even_sum)"
   ]
  },
  {
   "cell_type": "code",
   "execution_count": 42,
   "id": "c086b396",
   "metadata": {},
   "outputs": [],
   "source": [
    "# 24. Write a code to take 3 numbers as an input from the user and display the greatest no as output."
   ]
  },
  {
   "cell_type": "code",
   "execution_count": 48,
   "id": "bbe52823",
   "metadata": {},
   "outputs": [
    {
     "name": "stdout",
     "output_type": "stream",
     "text": [
      "Enter three numbers separated by spaces 10 5 14\n",
      "14.0\n"
     ]
    }
   ],
   "source": [
    "input_user=input('Enter three numbers separated by spaces ')\n",
    "num1,num2,num3= map(float,input_user.split())\n",
    "print(max(num1,num2,num3))"
   ]
  },
  {
   "cell_type": "raw",
   "id": "bf0c1ffe",
   "metadata": {},
   "source": [
    "# Q25. Write a program to display only those numbers from a list that satisfy the following conditions\n",
    "\n",
    "- The number must be divisible by five\n",
    "\n",
    "- If the number is greater than 150, then skip it and move to the next number\n",
    "\n",
    "- If the number is greater than 500, then stop the loop\n",
    "```\n",
    "numbers = [12, 75, 150, 180, 145, 525, 50]\n",
    "```"
   ]
  },
  {
   "cell_type": "code",
   "execution_count": 49,
   "id": "bba667b9",
   "metadata": {},
   "outputs": [
    {
     "name": "stdout",
     "output_type": "stream",
     "text": [
      "75\n",
      "150\n",
      "145\n",
      "50\n"
     ]
    }
   ],
   "source": [
    "numbers= [12,75,150,180,145,525,50]\n",
    "\n",
    "# Iterate through the numbers in the list\n",
    "for number in numbers:\n",
    "    # Check if the number is divisible by five\n",
    "    if number % 5 == 0:\n",
    "        # Skip if the number is greater than 150\n",
    "        if number > 150:\n",
    "            continue\n",
    "        # Stop the loop if the number is greater than 500\n",
    "        elif number > 500:\n",
    "            break\n",
    "        # Display the number if it meets the conditions\n",
    "        else:\n",
    "            print(number)"
   ]
  }
 ],
 "metadata": {
  "kernelspec": {
   "display_name": "Python 3 (ipykernel)",
   "language": "python",
   "name": "python3"
  },
  "language_info": {
   "codemirror_mode": {
    "name": "ipython",
    "version": 3
   },
   "file_extension": ".py",
   "mimetype": "text/x-python",
   "name": "python",
   "nbconvert_exporter": "python",
   "pygments_lexer": "ipython3",
   "version": "3.9.12"
  }
 },
 "nbformat": 4,
 "nbformat_minor": 5
}
