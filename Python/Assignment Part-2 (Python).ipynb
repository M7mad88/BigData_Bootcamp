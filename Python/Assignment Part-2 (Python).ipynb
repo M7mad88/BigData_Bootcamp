{
 "cells": [
  {
   "cell_type": "code",
   "execution_count": 1,
   "id": "5bd6c789",
   "metadata": {},
   "outputs": [],
   "source": [
    "# Q26. What is a string? How can we declare string in Python?"
   ]
  },
  {
   "cell_type": "code",
   "execution_count": 2,
   "id": "7bdf8b90",
   "metadata": {},
   "outputs": [],
   "source": [
    "# Python string is the collection of the characters surrounded by single quotes, double quotes,\n",
    "# or triple quotes.Each character is encoded in the ASCII or Unicode character."
   ]
  },
  {
   "cell_type": "code",
   "execution_count": 3,
   "id": "d5defe14",
   "metadata": {},
   "outputs": [],
   "source": [
    "# Q27. How can we access the string using its index?"
   ]
  },
  {
   "cell_type": "code",
   "execution_count": 5,
   "id": "0127134e",
   "metadata": {},
   "outputs": [
    {
     "name": "stdout",
     "output_type": "stream",
     "text": [
      "M\n",
      "d\n"
     ]
    }
   ],
   "source": [
    "s='Mohamed'\n",
    "print(s[0]) # first charc.\n",
    "print(s[-1]) # last charc."
   ]
  },
  {
   "cell_type": "code",
   "execution_count": 7,
   "id": "928e4a8e",
   "metadata": {},
   "outputs": [
    {
     "data": {
      "text/plain": [
       "'\\nstring = \"Big Data iNeuron\"\\ndesired_output = \"iNeuron\"\\n'"
      ]
     },
     "execution_count": 7,
     "metadata": {},
     "output_type": "execute_result"
    }
   ],
   "source": [
    "# Q28. Write a code to get the desired output of the following\n",
    "\n",
    "# string = \"Big Data iNeuron\"\n",
    "# desired_output = \"iNeuron\"\n"
   ]
  },
  {
   "cell_type": "code",
   "execution_count": 8,
   "id": "0897bf0a",
   "metadata": {},
   "outputs": [
    {
     "name": "stdout",
     "output_type": "stream",
     "text": [
      "iNeuron\n"
     ]
    }
   ],
   "source": [
    "string = \"Big Data iNeuron\"\n",
    "desired_output= string[-7:]\n",
    "print(desired_output)"
   ]
  },
  {
   "cell_type": "code",
   "execution_count": 9,
   "id": "fe36d593",
   "metadata": {},
   "outputs": [],
   "source": [
    "# Q29. Write a code to get the desired output of the following\n",
    "\n",
    "# string = \"Big Data iNeuron\"\n",
    "# desired_output = \"norueNi\"\n"
   ]
  },
  {
   "cell_type": "code",
   "execution_count": 10,
   "id": "a1ebba36",
   "metadata": {},
   "outputs": [
    {
     "name": "stdout",
     "output_type": "stream",
     "text": [
      "norueNi\n"
     ]
    }
   ],
   "source": [
    "string = \"Big Data iNeuron\"\n",
    "desired_output= string[-7:]\n",
    "print(desired_output[::-1])"
   ]
  },
  {
   "cell_type": "code",
   "execution_count": 11,
   "id": "5fddf4ec",
   "metadata": {},
   "outputs": [],
   "source": [
    "# Q30. Resverse the string given in the above question."
   ]
  },
  {
   "cell_type": "code",
   "execution_count": 12,
   "id": "c4e2f525",
   "metadata": {},
   "outputs": [
    {
     "name": "stdout",
     "output_type": "stream",
     "text": [
      "norueNi ataD giB\n"
     ]
    }
   ],
   "source": [
    "print(string[::-1])"
   ]
  },
  {
   "cell_type": "code",
   "execution_count": 13,
   "id": "d0d75428",
   "metadata": {},
   "outputs": [],
   "source": [
    "# Q31. How can you delete entire string at once?"
   ]
  },
  {
   "cell_type": "code",
   "execution_count": 14,
   "id": "2cb5fb94",
   "metadata": {},
   "outputs": [
    {
     "ename": "NameError",
     "evalue": "name 'string' is not defined",
     "output_type": "error",
     "traceback": [
      "\u001b[1;31m---------------------------------------------------------------------------\u001b[0m",
      "\u001b[1;31mNameError\u001b[0m                                 Traceback (most recent call last)",
      "Input \u001b[1;32mIn [14]\u001b[0m, in \u001b[0;36m<cell line: 2>\u001b[1;34m()\u001b[0m\n\u001b[0;32m      1\u001b[0m \u001b[38;5;28;01mdel\u001b[39;00m string\n\u001b[1;32m----> 2\u001b[0m \u001b[43mstring\u001b[49m\n",
      "\u001b[1;31mNameError\u001b[0m: name 'string' is not defined"
     ]
    }
   ],
   "source": [
    "del string\n",
    "string"
   ]
  },
  {
   "cell_type": "code",
   "execution_count": 15,
   "id": "0043fd73",
   "metadata": {},
   "outputs": [],
   "source": [
    "# Q32. What is escape sequence?"
   ]
  },
  {
   "cell_type": "code",
   "execution_count": 16,
   "id": "e69114eb",
   "metadata": {},
   "outputs": [],
   "source": [
    "# It 's a combination of characters in a string that represents a special char.it usually \n",
    "# begin with backslash. ex: \\n --> represent newline charachter."
   ]
  },
  {
   "cell_type": "code",
   "execution_count": 17,
   "id": "5d196c1d",
   "metadata": {},
   "outputs": [],
   "source": [
    "# Q33. How can you print the below string?\n",
    "\n",
    "# 'iNeuron's Big Data Course'\n"
   ]
  },
  {
   "cell_type": "code",
   "execution_count": 18,
   "id": "9f40e58d",
   "metadata": {},
   "outputs": [
    {
     "name": "stdout",
     "output_type": "stream",
     "text": [
      "iNeuron's Big Data Course\n"
     ]
    }
   ],
   "source": [
    "print(\"iNeuron's Big Data Course\")"
   ]
  },
  {
   "cell_type": "code",
   "execution_count": 19,
   "id": "4687648e",
   "metadata": {},
   "outputs": [
    {
     "name": "stdout",
     "output_type": "stream",
     "text": [
      "iNeuron's Big Data Course\n"
     ]
    }
   ],
   "source": [
    "print(\"iNeuron\\'s Big Data Course\")"
   ]
  },
  {
   "cell_type": "code",
   "execution_count": 20,
   "id": "2d448e43",
   "metadata": {},
   "outputs": [],
   "source": [
    "# Q34. What is a list in Python?"
   ]
  },
  {
   "cell_type": "code",
   "execution_count": 22,
   "id": "135ce6b3",
   "metadata": {},
   "outputs": [],
   "source": [
    "# Ordered sequence of objects; [1,1.5,'Hello', True]"
   ]
  },
  {
   "cell_type": "code",
   "execution_count": 21,
   "id": "52dd5b77",
   "metadata": {},
   "outputs": [],
   "source": [
    "# Q35. How can you create a list in Python?"
   ]
  },
  {
   "cell_type": "code",
   "execution_count": 23,
   "id": "b69c2e0d",
   "metadata": {},
   "outputs": [],
   "source": [
    "# use square brackets '[]' and separate the elements with commas.\n",
    "# l=[]"
   ]
  },
  {
   "cell_type": "code",
   "execution_count": 24,
   "id": "02483b1c",
   "metadata": {},
   "outputs": [],
   "source": [
    "# Q36. How can we access the elements in a list?"
   ]
  },
  {
   "cell_type": "code",
   "execution_count": 26,
   "id": "c97443e5",
   "metadata": {},
   "outputs": [
    {
     "data": {
      "text/plain": [
       "'Hello'"
      ]
     },
     "execution_count": 26,
     "metadata": {},
     "output_type": "execute_result"
    }
   ],
   "source": [
    "l=[1,1.5,'Hello', True]\n",
    "l[2]"
   ]
  },
  {
   "cell_type": "code",
   "execution_count": 27,
   "id": "537c183b",
   "metadata": {},
   "outputs": [],
   "source": [
    "# Q37. Write a code to access the word \"iNeuron\" from the given list.\n",
    "\n",
    "# lst = [1,2,3,\"Hi\",[45,54, \"iNeuron\"], \"Big Data\"]\n"
   ]
  },
  {
   "cell_type": "code",
   "execution_count": 29,
   "id": "2ab4cbde",
   "metadata": {},
   "outputs": [
    {
     "data": {
      "text/plain": [
       "'iNeuron'"
      ]
     },
     "execution_count": 29,
     "metadata": {},
     "output_type": "execute_result"
    }
   ],
   "source": [
    "lst = [1,2,3,\"Hi\",[45,54, \"iNeuron\"], \"Big Data\"]\n",
    "lst[4][2]"
   ]
  },
  {
   "cell_type": "code",
   "execution_count": 30,
   "id": "d4757915",
   "metadata": {},
   "outputs": [],
   "source": [
    "# Q38. Take a list as an input from the user and find the length of the list."
   ]
  },
  {
   "cell_type": "code",
   "execution_count": 32,
   "id": "561748c8",
   "metadata": {},
   "outputs": [
    {
     "name": "stdout",
     "output_type": "stream",
     "text": [
      "Enter a list element separated by spaces:1 7.5 3 tom 35\n",
      "User_list:  ['1', '7.5', '3', 'tom', '35']\n"
     ]
    }
   ],
   "source": [
    "user_input=input('Enter a list element separated by spaces:')\n",
    "lst=user_input.split()\n",
    "print('User_list: ',lst)"
   ]
  },
  {
   "cell_type": "code",
   "execution_count": 33,
   "id": "cc7bfd30",
   "metadata": {},
   "outputs": [],
   "source": [
    "# Q39. Add the word \"Big\" in the 3rd index of the given list.\n",
    "\n",
    "# lst = [\"Welcome\", \"to\", \"Data\", \"course\"]\n"
   ]
  },
  {
   "cell_type": "code",
   "execution_count": 34,
   "id": "b415db85",
   "metadata": {},
   "outputs": [
    {
     "name": "stdout",
     "output_type": "stream",
     "text": [
      "['Welcome', 'to', 'Data', 'Big', 'course']\n"
     ]
    }
   ],
   "source": [
    "lst = [\"Welcome\", \"to\", \"Data\", \"course\"]\n",
    "lst.insert(3,'Big')\n",
    "print(lst)"
   ]
  },
  {
   "cell_type": "code",
   "execution_count": 35,
   "id": "99dd9b18",
   "metadata": {},
   "outputs": [],
   "source": [
    "# Q40. What is a tuple? How is it different from list?"
   ]
  },
  {
   "cell_type": "code",
   "execution_count": null,
   "id": "58701a3e",
   "metadata": {},
   "outputs": [],
   "source": [
    "# Ordered Immutable sequence of Objects, tuple is immutable while list is not."
   ]
  },
  {
   "cell_type": "code",
   "execution_count": 36,
   "id": "39f2cc18",
   "metadata": {},
   "outputs": [],
   "source": [
    "# Q41. How can you create a tuple in Python?"
   ]
  },
  {
   "cell_type": "code",
   "execution_count": 37,
   "id": "b1eb167b",
   "metadata": {},
   "outputs": [],
   "source": [
    "# We use parentheses '()' and separate the elements with commas. my_tuple= (1,2,'Hello',35.0)"
   ]
  },
  {
   "cell_type": "code",
   "execution_count": 38,
   "id": "47e03e4d",
   "metadata": {},
   "outputs": [],
   "source": [
    "# Q42. Create a tuple and try to add your name in the tuple. Are you able to do it? Support your answer with reason."
   ]
  },
  {
   "cell_type": "code",
   "execution_count": 39,
   "id": "656faae3",
   "metadata": {},
   "outputs": [
    {
     "ename": "TypeError",
     "evalue": "'tuple' object does not support item assignment",
     "output_type": "error",
     "traceback": [
      "\u001b[1;31m---------------------------------------------------------------------------\u001b[0m",
      "\u001b[1;31mTypeError\u001b[0m                                 Traceback (most recent call last)",
      "Input \u001b[1;32mIn [39]\u001b[0m, in \u001b[0;36m<cell line: 2>\u001b[1;34m()\u001b[0m\n\u001b[0;32m      1\u001b[0m my_tuple\u001b[38;5;241m=\u001b[39m (\u001b[38;5;241m1\u001b[39m,\u001b[38;5;241m2\u001b[39m,\u001b[38;5;124m'\u001b[39m\u001b[38;5;124mHello\u001b[39m\u001b[38;5;124m'\u001b[39m,\u001b[38;5;241m35.0\u001b[39m)\n\u001b[1;32m----> 2\u001b[0m my_tuple[\u001b[38;5;241m0\u001b[39m]\u001b[38;5;241m=\u001b[39m\u001b[38;5;124m'\u001b[39m\u001b[38;5;124mmohamed\u001b[39m\u001b[38;5;124m'\u001b[39m\n",
      "\u001b[1;31mTypeError\u001b[0m: 'tuple' object does not support item assignment"
     ]
    }
   ],
   "source": [
    "my_tuple= (1,2,'Hello',35.0)\n",
    "my_tuple[0]='mohamed'"
   ]
  },
  {
   "cell_type": "code",
   "execution_count": 40,
   "id": "7bd94253",
   "metadata": {},
   "outputs": [],
   "source": [
    "# tuple object does not support item assignment as it's immutable."
   ]
  },
  {
   "cell_type": "code",
   "execution_count": 41,
   "id": "7fc201d7",
   "metadata": {},
   "outputs": [],
   "source": [
    "# Q43. Can two tuple be appended. If yes, write a code for it. If not, why?"
   ]
  },
  {
   "cell_type": "code",
   "execution_count": 42,
   "id": "a9d1f895",
   "metadata": {},
   "outputs": [],
   "source": [
    "# Tuples are immutable, meaning can not be modified after creation.\n",
    "# however we can concatenate two tuples to create a new tuple.\n"
   ]
  },
  {
   "cell_type": "code",
   "execution_count": 43,
   "id": "357083a2",
   "metadata": {},
   "outputs": [
    {
     "name": "stdout",
     "output_type": "stream",
     "text": [
      "(1, 2, 3, 'a', 'b', 'c')\n"
     ]
    }
   ],
   "source": [
    "tuple_1=(1,2,3)\n",
    "tuple_2=('a','b','c')\n",
    "\n",
    "new_tuple= tuple_1+tuple_2\n",
    "\n",
    "print(new_tuple)"
   ]
  },
  {
   "cell_type": "code",
   "execution_count": 44,
   "id": "0029d356",
   "metadata": {},
   "outputs": [],
   "source": [
    "# Q44. Take a tuple as an input and print the count of elements in it."
   ]
  },
  {
   "cell_type": "code",
   "execution_count": 47,
   "id": "2bcf95f0",
   "metadata": {},
   "outputs": [
    {
     "name": "stdout",
     "output_type": "stream",
     "text": [
      "Enter a tuple element separated by spaces:1 2 3.5\n",
      "User_tuple:  ('1', '2', '3.5')\n"
     ]
    }
   ],
   "source": [
    "user_input=input('Enter a tuple element separated by spaces:')\n",
    "my_tuple=tuple(user_input.split())\n",
    "print('User_tuple: ',my_tuple)"
   ]
  },
  {
   "cell_type": "code",
   "execution_count": 45,
   "id": "e355c9b9",
   "metadata": {},
   "outputs": [],
   "source": [
    "# Q45. What are sets in Python?"
   ]
  },
  {
   "cell_type": "code",
   "execution_count": 48,
   "id": "a321c4e5",
   "metadata": {},
   "outputs": [],
   "source": [
    "# Unordered collection of unique objects."
   ]
  },
  {
   "cell_type": "code",
   "execution_count": 46,
   "id": "60944196",
   "metadata": {},
   "outputs": [],
   "source": [
    "# Q46. How can you create a set?"
   ]
  },
  {
   "cell_type": "code",
   "execution_count": 49,
   "id": "9c164f58",
   "metadata": {},
   "outputs": [
    {
     "data": {
      "text/plain": [
       "{'1', '2', '3.5'}"
      ]
     },
     "execution_count": 49,
     "metadata": {},
     "output_type": "execute_result"
    }
   ],
   "source": [
    "# We use curly braces '{}' separate by commas.\n",
    "l={}\n",
    "set(my_tuple)"
   ]
  },
  {
   "cell_type": "code",
   "execution_count": 50,
   "id": "9432dd95",
   "metadata": {},
   "outputs": [],
   "source": [
    "# Q47. Create a set and add \"iNeuron\" in your set."
   ]
  },
  {
   "cell_type": "code",
   "execution_count": 56,
   "id": "7d1a5d3c",
   "metadata": {},
   "outputs": [
    {
     "name": "stdout",
     "output_type": "stream",
     "text": [
      "{1, 35, 'iNeuron'}\n"
     ]
    }
   ],
   "source": [
    "s={1,35}\n",
    "s.add('iNeuron')\n",
    "print(s)"
   ]
  },
  {
   "cell_type": "code",
   "execution_count": null,
   "id": "cfb43b5f",
   "metadata": {},
   "outputs": [],
   "source": [
    "# Q48. Try to add multiple values using add() function."
   ]
  },
  {
   "cell_type": "code",
   "execution_count": 57,
   "id": "f58eb419",
   "metadata": {},
   "outputs": [
    {
     "ename": "TypeError",
     "evalue": "unhashable type: 'list'",
     "output_type": "error",
     "traceback": [
      "\u001b[1;31m---------------------------------------------------------------------------\u001b[0m",
      "\u001b[1;31mTypeError\u001b[0m                                 Traceback (most recent call last)",
      "Input \u001b[1;32mIn [57]\u001b[0m, in \u001b[0;36m<cell line: 1>\u001b[1;34m()\u001b[0m\n\u001b[1;32m----> 1\u001b[0m \u001b[43ms\u001b[49m\u001b[38;5;241;43m.\u001b[39;49m\u001b[43madd\u001b[49m\u001b[43m(\u001b[49m\u001b[43m[\u001b[49m\u001b[38;5;241;43m4\u001b[39;49m\u001b[43m,\u001b[49m\u001b[38;5;241;43m5\u001b[39;49m\u001b[43m,\u001b[49m\u001b[38;5;241;43m6\u001b[39;49m\u001b[43m]\u001b[49m\u001b[43m)\u001b[49m\n",
      "\u001b[1;31mTypeError\u001b[0m: unhashable type: 'list'"
     ]
    }
   ],
   "source": [
    "s.add([4,5,6])"
   ]
  },
  {
   "cell_type": "code",
   "execution_count": null,
   "id": "d2f8466d",
   "metadata": {},
   "outputs": [],
   "source": [
    "# Q49. How is update() different from add()?"
   ]
  },
  {
   "cell_type": "code",
   "execution_count": 58,
   "id": "969c0184",
   "metadata": {},
   "outputs": [
    {
     "name": "stdout",
     "output_type": "stream",
     "text": [
      "{1, 35, 4, 5, 6, 'iNeuron'}\n"
     ]
    }
   ],
   "source": [
    "# add() used to add a single element to the set while update() add multiple elements to the set.\n",
    "s.update([4,5,6])\n",
    "print(s)"
   ]
  },
  {
   "cell_type": "code",
   "execution_count": null,
   "id": "db6eaff5",
   "metadata": {},
   "outputs": [],
   "source": [
    "# Q50. What is clear() in sets?"
   ]
  },
  {
   "cell_type": "code",
   "execution_count": 59,
   "id": "0f3eb8ad",
   "metadata": {},
   "outputs": [
    {
     "name": "stdout",
     "output_type": "stream",
     "text": [
      "set()\n"
     ]
    }
   ],
   "source": [
    "# it used to remove all the elements from a set.\n",
    "s.clear()\n",
    "print(s)"
   ]
  },
  {
   "cell_type": "code",
   "execution_count": 60,
   "id": "a57c909f",
   "metadata": {},
   "outputs": [],
   "source": [
    "# Q51. What is frozen set?"
   ]
  },
  {
   "cell_type": "code",
   "execution_count": 61,
   "id": "7a93303a",
   "metadata": {},
   "outputs": [
    {
     "ename": "AttributeError",
     "evalue": "'frozenset' object has no attribute 'add'",
     "output_type": "error",
     "traceback": [
      "\u001b[1;31m---------------------------------------------------------------------------\u001b[0m",
      "\u001b[1;31mAttributeError\u001b[0m                            Traceback (most recent call last)",
      "Input \u001b[1;32mIn [61]\u001b[0m, in \u001b[0;36m<cell line: 4>\u001b[1;34m()\u001b[0m\n\u001b[0;32m      2\u001b[0m my_set\u001b[38;5;241m=\u001b[39m{\u001b[38;5;241m1\u001b[39m,\u001b[38;5;241m2\u001b[39m,\u001b[38;5;241m3\u001b[39m}\n\u001b[0;32m      3\u001b[0m my_frozen_set\u001b[38;5;241m=\u001b[39m\u001b[38;5;28mfrozenset\u001b[39m(my_set)\n\u001b[1;32m----> 4\u001b[0m \u001b[43mmy_frozen_set\u001b[49m\u001b[38;5;241;43m.\u001b[39;49m\u001b[43madd\u001b[49m(\u001b[38;5;241m6\u001b[39m)\n",
      "\u001b[1;31mAttributeError\u001b[0m: 'frozenset' object has no attribute 'add'"
     ]
    }
   ],
   "source": [
    "# It 's an immutable version of a set.\n",
    "my_set={1,2,3}\n",
    "my_frozen_set=frozenset(my_set)\n",
    "my_frozen_set.add(6)"
   ]
  },
  {
   "cell_type": "code",
   "execution_count": 62,
   "id": "6ecdb8ea",
   "metadata": {},
   "outputs": [],
   "source": [
    "# Q52. How is frozen set different from set?"
   ]
  },
  {
   "cell_type": "code",
   "execution_count": 64,
   "id": "6c0348eb",
   "metadata": {},
   "outputs": [
    {
     "name": "stdout",
     "output_type": "stream",
     "text": [
      "are immutable. Once a frozen set is created, you cannot add or remove elements from it. It is a read-only version of a set.\n"
     ]
    }
   ],
   "source": [
    "print(\"are immutable. Once a frozen set is created, you cannot add or remove elements from it. It is a read-only version of a set.\")"
   ]
  },
  {
   "cell_type": "code",
   "execution_count": 65,
   "id": "a29ce2d0",
   "metadata": {},
   "outputs": [],
   "source": [
    "# Q53. What is union() in sets? Explain via code."
   ]
  },
  {
   "cell_type": "code",
   "execution_count": 67,
   "id": "5c4e3a19",
   "metadata": {},
   "outputs": [
    {
     "name": "stdout",
     "output_type": "stream",
     "text": [
      "{1, 2, 3, 4, 5}\n"
     ]
    }
   ],
   "source": [
    "set1 = {1, 2, 3}\n",
    "set2 = {3, 4, 5}\n",
    "\n",
    "# Use union() to get the union of set1 and set2\n",
    "union_set = set1.union(set2)\n",
    "\n",
    "print(union_set)"
   ]
  },
  {
   "cell_type": "code",
   "execution_count": 68,
   "id": "68c0524b",
   "metadata": {},
   "outputs": [],
   "source": [
    "# Q54. What is intersection() in sets? Explain via code."
   ]
  },
  {
   "cell_type": "code",
   "execution_count": 70,
   "id": "7e6568e9",
   "metadata": {},
   "outputs": [
    {
     "name": "stdout",
     "output_type": "stream",
     "text": [
      "{3}\n"
     ]
    }
   ],
   "source": [
    "set1 = {1, 2, 3}\n",
    "set2 = {3, 4, 5}\n",
    "\n",
    "# Use Intersection() to get the union of set1 and set2\n",
    "intersection_set = set1.intersection(set2)\n",
    "\n",
    "print(intersection_set)"
   ]
  },
  {
   "cell_type": "code",
   "execution_count": 71,
   "id": "6f2ec83b",
   "metadata": {},
   "outputs": [],
   "source": [
    "# Q55. What is dictionary ibn Python?"
   ]
  },
  {
   "cell_type": "code",
   "execution_count": null,
   "id": "98223748",
   "metadata": {},
   "outputs": [],
   "source": [
    "# Key-Value Pairs:\n",
    "\n",
    "A dictionary consists of key-value pairs, where each key is unique.\n",
    "The key is used to access its corresponding value.\n",
    "# Syntax:\n",
    "\n",
    "Dictionaries are defined using curly braces {}.\n",
    "Key and value pairs are separated by a colon :."
   ]
  },
  {
   "cell_type": "code",
   "execution_count": 72,
   "id": "ce3e542c",
   "metadata": {},
   "outputs": [],
   "source": [
    "my_dict = {\"key1\": \"value1\", \"key2\": \"value2\", \"key3\": \"value3\"}"
   ]
  },
  {
   "cell_type": "code",
   "execution_count": 73,
   "id": "b9203f6c",
   "metadata": {},
   "outputs": [
    {
     "name": "stdout",
     "output_type": "stream",
     "text": [
      "value2\n"
     ]
    }
   ],
   "source": [
    "print(my_dict[\"key2\"])  # Output: value2"
   ]
  },
  {
   "cell_type": "code",
   "execution_count": 74,
   "id": "1c7dec46",
   "metadata": {},
   "outputs": [],
   "source": [
    "# Q56. How is dictionary different from all other data structures."
   ]
  },
  {
   "cell_type": "code",
   "execution_count": 77,
   "id": "425f8eaa",
   "metadata": {},
   "outputs": [
    {
     "data": {
      "text/plain": [
       "'Key-Value Pairs:\\n\\nDictionaries are the primary data structure that uses a key-value pair concept.\\nOther data structures like lists, sets, and tuples typically store individual elements without explicit key-value associations.\\nDictionaries are unordered, meaning the order in which key-value pairs are stored is not guaranteed.'"
      ]
     },
     "execution_count": 77,
     "metadata": {},
     "output_type": "execute_result"
    }
   ],
   "source": [
    "'''Key-Value Pairs:\n",
    "\n",
    "Dictionaries are the primary data structure that uses a key-value pair concept.\n",
    "Other data structures like lists, sets, and tuples typically store individual elements without explicit key-value associations.\n",
    "Dictionaries are unordered, meaning the order in which key-value pairs are stored is not guaranteed.'''"
   ]
  },
  {
   "cell_type": "code",
   "execution_count": 78,
   "id": "e94e74ef",
   "metadata": {},
   "outputs": [],
   "source": [
    "# Q57. How can we delare a dictionary in Python?"
   ]
  },
  {
   "cell_type": "code",
   "execution_count": 81,
   "id": "0a7a18d9",
   "metadata": {},
   "outputs": [],
   "source": [
    "# You can declare a dictionary in Python using curly braces {} and specifying key-value pairs\n",
    "\n",
    "# my_dict = {\"key1\": \"value1\", \"key2\": \"value2\", \"key3\": \"value3\"}"
   ]
  },
  {
   "cell_type": "code",
   "execution_count": 79,
   "id": "4b2f91e7",
   "metadata": {},
   "outputs": [],
   "source": [
    "# Q58. What will the output of the following?\n",
    "\n",
    "# var = {}\n",
    "# print(type(var))"
   ]
  },
  {
   "cell_type": "code",
   "execution_count": 80,
   "id": "6d740322",
   "metadata": {},
   "outputs": [
    {
     "name": "stdout",
     "output_type": "stream",
     "text": [
      "<class 'dict'>\n"
     ]
    }
   ],
   "source": [
    "var = {}\n",
    "print(type(var))"
   ]
  },
  {
   "cell_type": "code",
   "execution_count": 82,
   "id": "48206a32",
   "metadata": {},
   "outputs": [],
   "source": [
    "# Q59. How can we add an element in a dictionary?"
   ]
  },
  {
   "cell_type": "code",
   "execution_count": 84,
   "id": "23d69557",
   "metadata": {},
   "outputs": [
    {
     "name": "stdout",
     "output_type": "stream",
     "text": [
      "{'key1': 'value1', 'key2': 'value2', 'key3': 'value3', 'key4': 'value4', 'key5': 'value5'}\n"
     ]
    }
   ],
   "source": [
    "# by using update method or create a new k-ypair\n",
    "\n",
    "my_dict = {\"key1\": \"value1\", \"key2\": \"value2\"}\n",
    "\n",
    "# Adding a new key-value pair\n",
    "my_dict[\"key3\"] = \"value3\"\n",
    "\n",
    "# Using the update() method\n",
    "my_dict.update({\"key4\": \"value4\", \"key5\": \"value5\"})\n",
    "\n",
    "print(my_dict)"
   ]
  },
  {
   "cell_type": "code",
   "execution_count": 83,
   "id": "0468397b",
   "metadata": {},
   "outputs": [],
   "source": [
    "# Q60. Create a dictionary and access all the values in that dictionary."
   ]
  },
  {
   "cell_type": "code",
   "execution_count": 86,
   "id": "7aae5d64",
   "metadata": {},
   "outputs": [
    {
     "name": "stdout",
     "output_type": "stream",
     "text": [
      "dict_values(['Mohamed', 35, 'Egypt'])\n"
     ]
    }
   ],
   "source": [
    "my_dict = {\n",
    "    \"name\": \"Mohamed\",\n",
    "    \"age\": 35,\n",
    "    \"city\": \"Egypt\"\n",
    "}\n",
    "\n",
    "# Access all values in the dictionary\n",
    "values = my_dict.values()\n",
    "print(values)"
   ]
  },
  {
   "cell_type": "code",
   "execution_count": 87,
   "id": "5856eac9",
   "metadata": {},
   "outputs": [],
   "source": [
    "# Q61. Create a nested dictionary and access all the element in the inner dictionary."
   ]
  },
  {
   "cell_type": "code",
   "execution_count": 89,
   "id": "2f0f60ad",
   "metadata": {},
   "outputs": [
    {
     "name": "stdout",
     "output_type": "stream",
     "text": [
      "{'city': 'Cairo', 'zipcode': '11835'}\n"
     ]
    }
   ],
   "source": [
    "my_nested_dict = {\"person\": {\"name\": \"Mohamed\",\"age\": 35,\"address\": {\"city\": \"Cairo\",\"zipcode\": \"11835\"}}}\n",
    "\n",
    "# Access all elements in the inner dictionary\n",
    "inner_dict = my_nested_dict[\"person\"][\"address\"]\n",
    "print(inner_dict)"
   ]
  },
  {
   "cell_type": "code",
   "execution_count": 88,
   "id": "41ead3b3",
   "metadata": {},
   "outputs": [],
   "source": [
    "# Q62. What is the use of get() function?"
   ]
  },
  {
   "cell_type": "code",
   "execution_count": 91,
   "id": "2eb66dc6",
   "metadata": {},
   "outputs": [
    {
     "name": "stdout",
     "output_type": "stream",
     "text": [
      "John *** Not specified\n"
     ]
    }
   ],
   "source": [
    "# Using get() to retrieve values\n",
    "my_dict = {\"name\": \"John\", \"age\": 35,}\n",
    "\n",
    "name = my_dict.get(\"name\")\n",
    "gender = my_dict.get(\"gender\", \"Not specified\")\n",
    "print(name,'***',gender)"
   ]
  },
  {
   "cell_type": "code",
   "execution_count": 92,
   "id": "b1d3fb92",
   "metadata": {},
   "outputs": [],
   "source": [
    "# Q63. What is the use of items() function?"
   ]
  },
  {
   "cell_type": "code",
   "execution_count": 94,
   "id": "88d9ab23",
   "metadata": {},
   "outputs": [
    {
     "name": "stdout",
     "output_type": "stream",
     "text": [
      "Key-Value Pairs:  dict_items([('name', 'John'), ('age', 35)])\n"
     ]
    }
   ],
   "source": [
    "# The items() function is used to retrieve a view of all key-value pairs present in the dictionary.\n",
    "\n",
    "my_dict = {\"name\": \"John\", \"age\": 35}\n",
    "\n",
    "items_view = my_dict.items()\n",
    "\n",
    "# Display the key-value pairs\n",
    "print(\"Key-Value Pairs: \", items_view)"
   ]
  },
  {
   "cell_type": "code",
   "execution_count": 95,
   "id": "314dbe37",
   "metadata": {},
   "outputs": [],
   "source": [
    "# Q64. What is the use of pop() function?"
   ]
  },
  {
   "cell_type": "code",
   "execution_count": 99,
   "id": "2636442d",
   "metadata": {},
   "outputs": [
    {
     "name": "stdout",
     "output_type": "stream",
     "text": [
      "35\n"
     ]
    },
    {
     "data": {
      "text/plain": [
       "dict_keys(['name'])"
      ]
     },
     "execution_count": 99,
     "metadata": {},
     "output_type": "execute_result"
    }
   ],
   "source": [
    "#  the pop() function is used to remove and return the value associated with a specified key. \n",
    "\n",
    "my_dict = {\"name\": \"John\", \"age\": 35}\n",
    "\n",
    "# Using pop() to remove and return a value\n",
    "removed_age = my_dict.pop(\"age\")\n",
    "print(removed_age)\n",
    "my_dict.keys()"
   ]
  },
  {
   "cell_type": "code",
   "execution_count": 101,
   "id": "28bb0951",
   "metadata": {},
   "outputs": [],
   "source": [
    "# Q65. What is the use of popitems() function? "
   ]
  },
  {
   "cell_type": "code",
   "execution_count": 102,
   "id": "4fca0d49",
   "metadata": {},
   "outputs": [
    {
     "name": "stdout",
     "output_type": "stream",
     "text": [
      "('age', 35)\n"
     ]
    }
   ],
   "source": [
    "my_dict = {\"name\": \"John\", \"age\": 35}\n",
    "# Using popitem() to remove and return the last key-value pair\n",
    "removed_item = my_dict.popitem()\n",
    "print(removed_item)"
   ]
  },
  {
   "cell_type": "code",
   "execution_count": 100,
   "id": "2629d18b",
   "metadata": {},
   "outputs": [],
   "source": [
    "# Q66. What is the use of keys() function?"
   ]
  },
  {
   "cell_type": "code",
   "execution_count": 103,
   "id": "ed5886b2",
   "metadata": {},
   "outputs": [
    {
     "name": "stdout",
     "output_type": "stream",
     "text": [
      "dict_keys(['name', 'age'])\n"
     ]
    }
   ],
   "source": [
    "# The keys() function is used to retrieve a view object that displays a list of all keys in the dictionary.\n",
    "\n",
    "my_dict = {\"name\": \"John\", \"age\": 35}\n",
    "# Use keys() to retrieve keys\n",
    "keys_view = my_dict.keys()\n",
    "print(keys_view)"
   ]
  },
  {
   "cell_type": "code",
   "execution_count": 104,
   "id": "b05bc5af",
   "metadata": {},
   "outputs": [],
   "source": [
    "# Q67. What is the use of values() function?"
   ]
  },
  {
   "cell_type": "code",
   "execution_count": 105,
   "id": "15d5324b",
   "metadata": {},
   "outputs": [
    {
     "name": "stdout",
     "output_type": "stream",
     "text": [
      "dict_values(['John', 35])\n"
     ]
    }
   ],
   "source": [
    "# The values() function used to retrieve a view object that displays a list of all values regarding it's keys in the dictionary.\n",
    "\n",
    "my_dict = {\"name\": \"John\", \"age\": 35}\n",
    "# Use values() to retrieve values\n",
    "values_view = my_dict.values()\n",
    "print(values_view)"
   ]
  },
  {
   "cell_type": "code",
   "execution_count": 106,
   "id": "10376549",
   "metadata": {},
   "outputs": [],
   "source": [
    "# Q68. What are loops in Python?"
   ]
  },
  {
   "cell_type": "code",
   "execution_count": 107,
   "id": "3c351104",
   "metadata": {},
   "outputs": [],
   "source": [
    "#  loops are control structures that allow you to repeatedly execute a block of code as long as a certain condition is true or for a specified number of iterations"
   ]
  },
  {
   "cell_type": "code",
   "execution_count": 108,
   "id": "46a4ebf8",
   "metadata": {},
   "outputs": [],
   "source": [
    "# Q69. How many type of loop are there in Python?"
   ]
  },
  {
   "cell_type": "code",
   "execution_count": 109,
   "id": "bd3a96c5",
   "metadata": {},
   "outputs": [],
   "source": [
    "# There are 2 types of loops : for and while loop"
   ]
  },
  {
   "cell_type": "code",
   "execution_count": 110,
   "id": "647d695c",
   "metadata": {},
   "outputs": [],
   "source": [
    "# Q70. What is the difference between for and while loops?"
   ]
  },
  {
   "cell_type": "code",
   "execution_count": 111,
   "id": "af8fb2e9",
   "metadata": {},
   "outputs": [],
   "source": [
    "# for loops are often used when you know the number of iterations in advance,  while loops are suitable when you need to iterate as long as a certain condition is true."
   ]
  },
  {
   "cell_type": "code",
   "execution_count": 112,
   "id": "cbf65b21",
   "metadata": {},
   "outputs": [],
   "source": [
    "# Q71. What is the use of continue statement?"
   ]
  },
  {
   "cell_type": "code",
   "execution_count": 116,
   "id": "cc9bbf68",
   "metadata": {},
   "outputs": [
    {
     "name": "stdout",
     "output_type": "stream",
     "text": [
      "apple\n",
      "cherry\n",
      "Loop finished\n"
     ]
    }
   ],
   "source": [
    "# the continue statement is used to skip the rest of the code inside a loop for the current iteration and move on to the next iteration.\n",
    "\n",
    "fruits = [\"apple\", \"banana\", \"cherry\"]\n",
    "\n",
    "for fruit in fruits:\n",
    "    if fruit == \"banana\":\n",
    "        continue  # Skip the rest of the code for \"banana\"\n",
    "    print(fruit)\n",
    "\n",
    "print(\"Loop finished\")"
   ]
  },
  {
   "cell_type": "code",
   "execution_count": 113,
   "id": "1334b486",
   "metadata": {},
   "outputs": [],
   "source": [
    "# Q72. What is the use of break statement?"
   ]
  },
  {
   "cell_type": "code",
   "execution_count": 114,
   "id": "13fc7965",
   "metadata": {},
   "outputs": [
    {
     "name": "stdout",
     "output_type": "stream",
     "text": [
      "apple\n",
      "banana\n",
      "Loop finished\n"
     ]
    }
   ],
   "source": [
    "# the break statement is used to exit a loop prematurely, before its normal termination. When a break statement is encountered within a loop, the loop is immediately terminated, and program control is transferred to the next statement after the loop.\n",
    "\n",
    "fruits = [\"apple\", \"banana\", \"cherry\"]\n",
    "\n",
    "for fruit in fruits:\n",
    "    print(fruit)\n",
    "    if fruit == \"banana\":\n",
    "        break  # Exit the loop when \"banana\" is encountered\n",
    "\n",
    "print(\"Loop finished\")"
   ]
  },
  {
   "cell_type": "code",
   "execution_count": 115,
   "id": "0a315781",
   "metadata": {},
   "outputs": [],
   "source": [
    "# Q73. What is the use of pass statement?"
   ]
  },
  {
   "cell_type": "code",
   "execution_count": 117,
   "id": "9c900943",
   "metadata": {},
   "outputs": [],
   "source": [
    "#  the pass statement is a no-operation statement. It is a placeholder that does nothing when it is executed. The primary purpose of the pass statement is to serve as a syntactic placeholder where Python expects a statement but no action is desired or required."
   ]
  },
  {
   "cell_type": "code",
   "execution_count": 118,
   "id": "5e710e14",
   "metadata": {},
   "outputs": [],
   "source": [
    "# Q74. What is the use of range() function?"
   ]
  },
  {
   "cell_type": "code",
   "execution_count": 124,
   "id": "30e1fad3",
   "metadata": {},
   "outputs": [
    {
     "name": "stdout",
     "output_type": "stream",
     "text": [
      "1 3 5 7 9 "
     ]
    }
   ],
   "source": [
    "# the range() function is used to generate a sequence of numbers. It is often used in for loops to iterate over a specific range of values.\n",
    "# range(start, stop, step)\n",
    "for i in range(1, 10, 2):\n",
    "    print(i,end=' ')"
   ]
  },
  {
   "cell_type": "code",
   "execution_count": 119,
   "id": "7732f0da",
   "metadata": {},
   "outputs": [],
   "source": [
    "# Q75. How can you loop over a dictionary?"
   ]
  },
  {
   "cell_type": "code",
   "execution_count": 125,
   "id": "4da8352f",
   "metadata": {},
   "outputs": [
    {
     "name": "stdout",
     "output_type": "stream",
     "text": [
      "name : Mohamed\n",
      "age : 35\n",
      "city : Cairo\n"
     ]
    }
   ],
   "source": [
    "my_dict = {\"name\": \"Mohamed\", \"age\": 35, \"city\":\"Cairo\"}\n",
    "\n",
    "for key, value in my_dict.items():\n",
    "    print(key, \":\", value)"
   ]
  },
  {
   "cell_type": "code",
   "execution_count": 126,
   "id": "4eb0cb13",
   "metadata": {},
   "outputs": [],
   "source": [
    "# Q76. Write a Python program to find the factorial of a given number."
   ]
  },
  {
   "cell_type": "code",
   "execution_count": 131,
   "id": "24e4bd40",
   "metadata": {},
   "outputs": [],
   "source": [
    "def factorial(num):\n",
    "    if num<=1:\n",
    "        return 1\n",
    "    else:\n",
    "        return num * factorial(num - 1)    "
   ]
  },
  {
   "cell_type": "code",
   "execution_count": 132,
   "id": "93270e59",
   "metadata": {},
   "outputs": [
    {
     "data": {
      "text/plain": [
       "120"
      ]
     },
     "execution_count": 132,
     "metadata": {},
     "output_type": "execute_result"
    }
   ],
   "source": [
    "factorial(5)"
   ]
  },
  {
   "cell_type": "code",
   "execution_count": 133,
   "id": "628456e4",
   "metadata": {},
   "outputs": [],
   "source": [
    "# Q77. Write a Python program to calculate the simple interest. Formula to calculate simple interest is SI = (P*R*T)/100"
   ]
  },
  {
   "cell_type": "code",
   "execution_count": 134,
   "id": "f7d83372",
   "metadata": {},
   "outputs": [],
   "source": [
    "def calculate_simple_interest(principal, rate, time):\n",
    "    # SI = (P*R*T)/100\n",
    "    si = (principal * rate * time) / 100\n",
    "    return si"
   ]
  },
  {
   "cell_type": "code",
   "execution_count": 135,
   "id": "08b3a21d",
   "metadata": {},
   "outputs": [
    {
     "data": {
      "text/plain": [
       "1.2"
      ]
     },
     "execution_count": 135,
     "metadata": {},
     "output_type": "execute_result"
    }
   ],
   "source": [
    "calculate_simple_interest(100,0.1,12)"
   ]
  },
  {
   "cell_type": "code",
   "execution_count": 136,
   "id": "0215e291",
   "metadata": {},
   "outputs": [],
   "source": [
    "# 78. Write a Python program to calculate the compound interest. Formula of compound interest is A = P(1+ R/100)^t."
   ]
  },
  {
   "cell_type": "code",
   "execution_count": 138,
   "id": "71c5a047",
   "metadata": {},
   "outputs": [],
   "source": [
    "def calculate_compound_interest(principal, rate, time):\n",
    "    # ci = P(1+R/100)^t\n",
    "    ci = principal *( 1+ (rate/100))**time\n",
    "    return ci"
   ]
  },
  {
   "cell_type": "code",
   "execution_count": 139,
   "id": "5fbe6302",
   "metadata": {},
   "outputs": [
    {
     "data": {
      "text/plain": [
       "101.20662204957915"
      ]
     },
     "execution_count": 139,
     "metadata": {},
     "output_type": "execute_result"
    }
   ],
   "source": [
    "calculate_compound_interest(100,0.1,12)"
   ]
  },
  {
   "cell_type": "code",
   "execution_count": 140,
   "id": "5688602e",
   "metadata": {},
   "outputs": [],
   "source": [
    "# Q79. Write a Python program to check if a number is prime or not."
   ]
  },
  {
   "cell_type": "code",
   "execution_count": 147,
   "id": "87a11d95",
   "metadata": {},
   "outputs": [],
   "source": [
    "def prime(num):\n",
    "    if num==1:\n",
    "        return True\n",
    "    else:\n",
    "        for i in range(num):\n",
    "            if i%(num+1)==0:\n",
    "                return True"
   ]
  },
  {
   "cell_type": "code",
   "execution_count": 148,
   "id": "8723a4b3",
   "metadata": {},
   "outputs": [
    {
     "data": {
      "text/plain": [
       "True"
      ]
     },
     "execution_count": 148,
     "metadata": {},
     "output_type": "execute_result"
    }
   ],
   "source": [
    "prime(1)"
   ]
  },
  {
   "cell_type": "code",
   "execution_count": 149,
   "id": "0cab2914",
   "metadata": {},
   "outputs": [
    {
     "data": {
      "text/plain": [
       "True"
      ]
     },
     "execution_count": 149,
     "metadata": {},
     "output_type": "execute_result"
    }
   ],
   "source": [
    "prime(7)"
   ]
  },
  {
   "cell_type": "code",
   "execution_count": 150,
   "id": "678b91d5",
   "metadata": {},
   "outputs": [],
   "source": [
    "# Q80. Write a Python program to check Armstrong Number."
   ]
  },
  {
   "cell_type": "code",
   "execution_count": 151,
   "id": "55d4e158",
   "metadata": {},
   "outputs": [
    {
     "name": "stdout",
     "output_type": "stream",
     "text": [
      "153 is an Armstrong number.\n"
     ]
    }
   ],
   "source": [
    "def is_armstrong_number(number):\n",
    "    num_str = str(number)\n",
    "    num_digits = len(num_str)\n",
    "    armstrong_sum = sum(int(digit) ** num_digits for digit in num_str)\n",
    "    return armstrong_sum == number\n",
    "\n",
    "# Example: Check if 153 is an Armstrong number\n",
    "example_number = 153\n",
    "\n",
    "if is_armstrong_number(example_number):\n",
    "    print(f\"{example_number} is an Armstrong number.\")\n",
    "else:\n",
    "    print(f\"{example_number} is not an Armstrong number.\")"
   ]
  },
  {
   "cell_type": "code",
   "execution_count": 152,
   "id": "b1564a7f",
   "metadata": {},
   "outputs": [],
   "source": [
    "# Q81. Write a Python program to find the n-th Fibonacci Number."
   ]
  },
  {
   "cell_type": "code",
   "execution_count": 153,
   "id": "f51015e3",
   "metadata": {},
   "outputs": [
    {
     "name": "stdout",
     "output_type": "stream",
     "text": [
      "Enter the value of n (positive integer): 10\n",
      "The 10-th Fibonacci number is: 34\n"
     ]
    }
   ],
   "source": [
    "def fibonacci_recursive(n):\n",
    "    if n <= 0:\n",
    "        return \"Invalid input. Please enter a positive integer.\"\n",
    "    elif n == 1:\n",
    "        return 0\n",
    "    elif n == 2:\n",
    "        return 1\n",
    "    else:\n",
    "        return fibonacci_recursive(n - 1) + fibonacci_recursive(n - 2)\n",
    "\n",
    "# Input from the user\n",
    "n = int(input(\"Enter the value of n (positive integer): \"))\n",
    "\n",
    "# Find and display the n-th Fibonacci number\n",
    "result = fibonacci_recursive(n)\n",
    "print(f\"The {n}-th Fibonacci number is: {result}\")"
   ]
  },
  {
   "cell_type": "code",
   "execution_count": 154,
   "id": "ad1ea198",
   "metadata": {},
   "outputs": [],
   "source": [
    "# Q82. Write a Python program to interchange the first and last element in a list."
   ]
  },
  {
   "cell_type": "code",
   "execution_count": 155,
   "id": "f83c278b",
   "metadata": {},
   "outputs": [],
   "source": [
    "def interchange_first_last(lst):\n",
    "    if len(lst) >= 2:\n",
    "        # Swap the first and last elements\n",
    "        lst[0], lst[-1] = lst[-1], lst[0]"
   ]
  },
  {
   "cell_type": "code",
   "execution_count": 158,
   "id": "141ff2a1",
   "metadata": {},
   "outputs": [
    {
     "name": "stdout",
     "output_type": "stream",
     "text": [
      "List after interchanging first and last elements: [5, 2, 3, 4, 1]\n"
     ]
    }
   ],
   "source": [
    "my_list= [1, 2, 3, 4, 5]\n",
    "interchange_first_last(my_list)\n",
    "\n",
    "# Display the modified list\n",
    "print(\"List after interchanging first and last elements:\", my_list)"
   ]
  },
  {
   "cell_type": "code",
   "execution_count": 159,
   "id": "0eec32ba",
   "metadata": {},
   "outputs": [],
   "source": [
    "# Q83. Write a Python program to swap two elements in a list."
   ]
  },
  {
   "cell_type": "code",
   "execution_count": 2,
   "id": "dea07774",
   "metadata": {},
   "outputs": [
    {
     "data": {
      "text/plain": [
       "[1, 4, 3, 2, 5]"
      ]
     },
     "execution_count": 2,
     "metadata": {},
     "output_type": "execute_result"
    }
   ],
   "source": [
    "def swap_elements(lst, index1, index2):\n",
    "    # Check if indices are valid\n",
    "    if 0 <= index1 < len(lst) and 0 <= index2 < len(lst):\n",
    "        # Swap elements\n",
    "        temp = lst[index1]\n",
    "        lst[index1] = lst[index2]\n",
    "        lst[index2] = temp\n",
    "        return lst\n",
    "    else:\n",
    "        print(\"Invalid indices\")\n",
    "\n",
    "# Example usage:\n",
    "my_list = [1, 2, 3, 4, 5]\n",
    "\n",
    "swap_elements(my_list, 1, 3)\n"
   ]
  },
  {
   "cell_type": "code",
   "execution_count": 3,
   "id": "f100e7d5",
   "metadata": {},
   "outputs": [],
   "source": [
    "# Q84. Write a Python program to find N largest element from a list."
   ]
  },
  {
   "cell_type": "code",
   "execution_count": 4,
   "id": "f8289881",
   "metadata": {},
   "outputs": [
    {
     "name": "stdout",
     "output_type": "stream",
     "text": [
      "The 3 largest elements are: [10, 8, 7]\n"
     ]
    }
   ],
   "source": [
    "def find_n_largest_elements(lst, n):\n",
    "    if n <= 0:\n",
    "        print(\"Invalid value of N\")\n",
    "        return []\n",
    "\n",
    "    # Find the N largest elements using the max() function\n",
    "    largest_elements = []\n",
    "    for _ in range(n):\n",
    "        max_element = max(lst)\n",
    "        largest_elements.append(max_element)\n",
    "        lst.remove(max_element)\n",
    "\n",
    "    return largest_elements\n",
    "\n",
    "# Example usage:\n",
    "my_list = [4, 2, 8, 1, 7, 3, 10, 5]\n",
    "N = 3\n",
    "\n",
    "result = find_n_largest_elements(my_list, N)\n",
    "print(f\"The {N} largest elements are:\", result)"
   ]
  },
  {
   "cell_type": "code",
   "execution_count": 5,
   "id": "3e92f185",
   "metadata": {},
   "outputs": [],
   "source": [
    "# Q85. Write a Python program to find cumulative sum of a list."
   ]
  },
  {
   "cell_type": "code",
   "execution_count": 6,
   "id": "079186f4",
   "metadata": {},
   "outputs": [
    {
     "name": "stdout",
     "output_type": "stream",
     "text": [
      "Original list: [1, 2, 3, 4, 5]\n",
      "Cumulative sum list: [1, 3, 6, 10, 15]\n"
     ]
    }
   ],
   "source": [
    "def cumulative_sum(lst):\n",
    "    cum_sum = 0\n",
    "    cum_sum_list = []\n",
    "\n",
    "    for num in lst:\n",
    "        cum_sum += num\n",
    "        cum_sum_list.append(cum_sum)\n",
    "\n",
    "    return cum_sum_list\n",
    "\n",
    "# Example usage:\n",
    "my_list = [1, 2, 3, 4, 5]\n",
    "\n",
    "result = cumulative_sum(my_list)\n",
    "print(\"Original list:\", my_list)\n",
    "print(\"Cumulative sum list:\", result)"
   ]
  },
  {
   "cell_type": "code",
   "execution_count": 7,
   "id": "9e286e6d",
   "metadata": {},
   "outputs": [],
   "source": [
    "# Q86. Write a Python program to check if a string is palindrome or not."
   ]
  },
  {
   "cell_type": "code",
   "execution_count": 8,
   "id": "a3b4c674",
   "metadata": {},
   "outputs": [
    {
     "name": "stdout",
     "output_type": "stream",
     "text": [
      "The string \"A man a plan a canal Panama\" is a palindrome.\n"
     ]
    }
   ],
   "source": [
    "def is_palindrome(s):\n",
    "    s = s.replace(\" \", \"\").lower()\n",
    "\n",
    "    # Compare the original string with its reverse\n",
    "    return s == s[::-1]\n",
    "\n",
    "# Example usage:\n",
    "input_string = \"A man a plan a canal Panama\"\n",
    "\n",
    "if is_palindrome(input_string):\n",
    "    print(f'The string \"{input_string}\" is a palindrome.')\n",
    "else:\n",
    "    print(f'The string \"{input_string}\" is not a palindrome.')"
   ]
  },
  {
   "cell_type": "code",
   "execution_count": 9,
   "id": "eef503ae",
   "metadata": {},
   "outputs": [],
   "source": [
    "# Q87. Write a Python program to remove i'th element from a string."
   ]
  },
  {
   "cell_type": "code",
   "execution_count": 10,
   "id": "28b257fd",
   "metadata": {},
   "outputs": [
    {
     "name": "stdout",
     "output_type": "stream",
     "text": [
      "The string after removing the 2'th element is: exmple\n"
     ]
    }
   ],
   "source": [
    "def remove_ith_element(input_str, index):\n",
    "    if 0 <= index < len(input_str):\n",
    "        return input_str[:index] + input_str[index + 1:]\n",
    "    else:\n",
    "        print(\"Invalid index\")\n",
    "        return input_str\n",
    "\n",
    "# Example usage:\n",
    "original_string = \"example\"\n",
    "index_to_remove = 2\n",
    "\n",
    "result = remove_ith_element(original_string, index_to_remove)\n",
    "print(f\"The string after removing the {index_to_remove}'th element is:\", result)"
   ]
  },
  {
   "cell_type": "code",
   "execution_count": 11,
   "id": "1db9d868",
   "metadata": {},
   "outputs": [],
   "source": [
    "# Q88. Write a Python program to check if a substring is present in a given string."
   ]
  },
  {
   "cell_type": "code",
   "execution_count": 12,
   "id": "49cbc764",
   "metadata": {},
   "outputs": [
    {
     "data": {
      "text/plain": [
       "True"
      ]
     },
     "execution_count": 12,
     "metadata": {},
     "output_type": "execute_result"
    }
   ],
   "source": [
    "def is_substring_present(main_string, substring):\n",
    "\n",
    "    return substring in main_string\n",
    "\n",
    "# Example usage:\n",
    "main_string = \"Hello, World!\"\n",
    "substring_to_check = \"World\"\n",
    "\n",
    "is_substring_present(main_string, substring_to_check)"
   ]
  },
  {
   "cell_type": "code",
   "execution_count": 13,
   "id": "784fc5c0",
   "metadata": {},
   "outputs": [],
   "source": [
    "# Q89. Write a Python program to find words which are greater than given length k."
   ]
  },
  {
   "cell_type": "code",
   "execution_count": 14,
   "id": "030c4d0c",
   "metadata": {},
   "outputs": [
    {
     "name": "stdout",
     "output_type": "stream",
     "text": [
      "Words greater than length 4: ['sample', 'sentence', 'words', 'varying', 'lengths.']\n"
     ]
    }
   ],
   "source": [
    "def find_words_greater_than_length(input_string, k):\n",
    "    words = input_string.split()\n",
    "    result = [word for word in words if len(word) > k]\n",
    "    return result\n",
    "\n",
    "# Example usage:\n",
    "input_text = \"This is a sample sentence with words of varying lengths.\"\n",
    "\n",
    "k_value = 4\n",
    "result_words = find_words_greater_than_length(input_text, k_value)\n",
    "\n",
    "print(f\"Words greater than length {k_value}: {result_words}\")\n"
   ]
  },
  {
   "cell_type": "code",
   "execution_count": 15,
   "id": "c0d6ac40",
   "metadata": {},
   "outputs": [],
   "source": [
    "# Q90. Write a Python program to extract unquire dictionary values."
   ]
  },
  {
   "cell_type": "code",
   "execution_count": 18,
   "id": "9925c122",
   "metadata": {},
   "outputs": [
    {
     "name": "stdout",
     "output_type": "stream",
     "text": [
      "Unique values in the dictionary: [1, 2, 3]\n"
     ]
    }
   ],
   "source": [
    "def extract_unique_values(input_dict):\n",
    "    unique_values = list(set(input_dict.values()))\n",
    "    return unique_values\n",
    "\n",
    "# Example usage:\n",
    "my_dict = {'a': 1, 'b': 2, 'c': 1, 'd': 3, 'e': 2}\n",
    "\n",
    "result_unique_values = extract_unique_values(my_dict)\n",
    "print(\"Unique values in the dictionary:\", result_unique_values)"
   ]
  },
  {
   "cell_type": "code",
   "execution_count": 16,
   "id": "bed3acc5",
   "metadata": {},
   "outputs": [],
   "source": [
    "# Q91. Write a Python program to merge two dictionary."
   ]
  },
  {
   "cell_type": "code",
   "execution_count": 19,
   "id": "31a70ec4",
   "metadata": {},
   "outputs": [
    {
     "name": "stdout",
     "output_type": "stream",
     "text": [
      "Merged dictionary using unpacking: {'a': 1, 'b': 3, 'c': 4}\n"
     ]
    }
   ],
   "source": [
    "def merge_dictionaries_unpacking(dict1, dict2):\n",
    "    merged_dict = {**dict1, **dict2}\n",
    "    return merged_dict\n",
    "\n",
    "# Example usage:\n",
    "dict_a = {'a': 1, 'b': 2}\n",
    "dict_b = {'b': 3, 'c': 4}\n",
    "\n",
    "result_dict_unpacking = merge_dictionaries_unpacking(dict_a, dict_b)\n",
    "print(\"Merged dictionary using unpacking:\", result_dict_unpacking)"
   ]
  },
  {
   "cell_type": "code",
   "execution_count": 174,
   "id": "57b65eec",
   "metadata": {},
   "outputs": [],
   "source": [
    "# Q92. Write a Python program to convert a list of tuples into dictionary.\n",
    "\n",
    "# Input : [('Sachin', 10), ('MSD', 7), ('Kohli', 18), ('Rohit', 45)]\n",
    "# Output : {'Sachin': 10, 'MSD': 7, 'Kohli': 18, 'Rohit': 45}"
   ]
  },
  {
   "cell_type": "code",
   "execution_count": 20,
   "id": "a495e4f1",
   "metadata": {},
   "outputs": [
    {
     "name": "stdout",
     "output_type": "stream",
     "text": [
      "Output dictionary: {'Sachin': 10, 'MSD': 7, 'Kohli': 18, 'Rohit': 45}\n"
     ]
    }
   ],
   "source": [
    "def list_of_tuples_to_dict(list_of_tuples):\n",
    "    result_dict = dict(list_of_tuples)\n",
    "    return result_dict\n",
    "\n",
    "# Example usage:\n",
    "input_list = [('Sachin', 10), ('MSD', 7), ('Kohli', 18), ('Rohit', 45)]\n",
    "\n",
    "output_dict = list_of_tuples_to_dict(input_list)\n",
    "print(\"Output dictionary:\", output_dict)"
   ]
  },
  {
   "cell_type": "code",
   "execution_count": 175,
   "id": "f135655b",
   "metadata": {},
   "outputs": [],
   "source": [
    "# Q93. Write a Python program to create a list of tuples from given list having number and its cube in each tuple.\n",
    "\n",
    "# Input: list = [9, 5, 6]\n",
    "# Output: [(9, 729), (5, 125), (6, 216)]"
   ]
  },
  {
   "cell_type": "code",
   "execution_count": 21,
   "id": "d51fd01e",
   "metadata": {},
   "outputs": [
    {
     "name": "stdout",
     "output_type": "stream",
     "text": [
      "Output list of tuples: [(9, 729), (5, 125), (6, 216)]\n"
     ]
    }
   ],
   "source": [
    "def create_tuples_with_cube(input_list):\n",
    "    result_tuples = [(num, num ** 3) for num in input_list]\n",
    "    return result_tuples\n",
    "\n",
    "# Example usage:\n",
    "input_list = [9, 5, 6]\n",
    "\n",
    "output_tuples = create_tuples_with_cube(input_list)\n",
    "print(\"Output list of tuples:\", output_tuples)"
   ]
  },
  {
   "cell_type": "code",
   "execution_count": 176,
   "id": "ae3d71c2",
   "metadata": {},
   "outputs": [],
   "source": [
    "# Q94. Write a Python program to get all combinations of 2 tuples.\n",
    "\n",
    "# Input : test_tuple1 = (7, 2), test_tuple2 = (7, 8)\n",
    "# Output : [(7, 7), (7, 8), (2, 7), (2, 8), (7, 7), (7, 2), (8, 7), (8, 2)]"
   ]
  },
  {
   "cell_type": "code",
   "execution_count": 22,
   "id": "bb94411f",
   "metadata": {},
   "outputs": [
    {
     "name": "stdout",
     "output_type": "stream",
     "text": [
      "Output combinations: [(7, 7), (7, 8), (2, 7), (2, 8)]\n"
     ]
    }
   ],
   "source": [
    "from itertools import product\n",
    "\n",
    "def get_all_combinations(tuple1, tuple2):\n",
    "    result_combinations = list(product(tuple1, tuple2))\n",
    "    return result_combinations\n",
    "\n",
    "# Example usage:\n",
    "test_tuple1 = (7, 2)\n",
    "test_tuple2 = (7, 8)\n",
    "\n",
    "output_combinations = get_all_combinations(test_tuple1, test_tuple2)\n",
    "print(\"Output combinations:\", output_combinations)"
   ]
  },
  {
   "cell_type": "code",
   "execution_count": 170,
   "id": "7984a225",
   "metadata": {},
   "outputs": [],
   "source": [
    "# Q95. Write a Python program to sort a list of tuples by second item.\n",
    "\n",
    "# Input : [('for', 24), ('Geeks', 8), ('Geeks', 30)] \n",
    "# Output : [('Geeks', 8), ('for', 24), ('Geeks', 30)]"
   ]
  },
  {
   "cell_type": "code",
   "execution_count": 23,
   "id": "8e217f7d",
   "metadata": {},
   "outputs": [
    {
     "name": "stdout",
     "output_type": "stream",
     "text": [
      "Output sorted list of tuples: [('Geeks', 8), ('for', 24), ('Geeks', 30)]\n"
     ]
    }
   ],
   "source": [
    "def sort_tuples_by_second_item(input_tuples):\n",
    "    result_sorted_tuples = sorted(input_tuples, key=lambda x: x[1])\n",
    "    return result_sorted_tuples\n",
    "\n",
    "# Example usage:\n",
    "input_list = [('for', 24), ('Geeks', 8), ('Geeks', 30)]\n",
    "\n",
    "output_sorted_tuples = sort_tuples_by_second_item(input_list)\n",
    "print(\"Output sorted list of tuples:\", output_sorted_tuples)"
   ]
  },
  {
   "cell_type": "code",
   "execution_count": 161,
   "id": "188899bb",
   "metadata": {},
   "outputs": [
    {
     "data": {
      "text/plain": [
       "'\\n* \\n* * \\n* * * \\n* * * * \\n* * * * * \\n'"
      ]
     },
     "execution_count": 161,
     "metadata": {},
     "output_type": "execute_result"
    }
   ],
   "source": [
    "# Q96. Write a python program to print below pattern.\n",
    "'''\n",
    "* \n",
    "* * \n",
    "* * * \n",
    "* * * * \n",
    "* * * * * \n",
    "'''"
   ]
  },
  {
   "cell_type": "code",
   "execution_count": 171,
   "id": "aa6c7ceb",
   "metadata": {},
   "outputs": [
    {
     "name": "stdout",
     "output_type": "stream",
     "text": [
      "Enter the number of rows for the pattern: 5\n",
      "* \n",
      "* * \n",
      "* * * \n",
      "* * * * \n",
      "* * * * * \n"
     ]
    }
   ],
   "source": [
    "def print_pattern(n):\n",
    "    for i in range(1, n + 1):\n",
    "        print('* ' * i)\n",
    "\n",
    "# Input from the user\n",
    "rows = int(input(\"Enter the number of rows for the pattern: \"))\n",
    "print_pattern(rows)"
   ]
  },
  {
   "cell_type": "code",
   "execution_count": 163,
   "id": "46ad25e7",
   "metadata": {},
   "outputs": [
    {
     "data": {
      "text/plain": [
       "'\\n    *\\n   **\\n  ***\\n ****\\n*****\\n'"
      ]
     },
     "execution_count": 163,
     "metadata": {},
     "output_type": "execute_result"
    }
   ],
   "source": [
    "# Q97. Write a python program to print below pattern.\n",
    "'''\n",
    "    *\n",
    "   **\n",
    "  ***\n",
    " ****\n",
    "*****\n",
    "'''"
   ]
  },
  {
   "cell_type": "code",
   "execution_count": 172,
   "id": "0b11277f",
   "metadata": {},
   "outputs": [
    {
     "name": "stdout",
     "output_type": "stream",
     "text": [
      "Enter the number of rows for the pattern: 5\n",
      "    *\n",
      "   **\n",
      "  ***\n",
      " ****\n",
      "*****\n"
     ]
    }
   ],
   "source": [
    "def print_pattern(n):\n",
    "    for i in range(1, n + 1):\n",
    "        spaces = ' ' * (n - i)\n",
    "        stars = '*' * i\n",
    "        print(spaces + stars)\n",
    "\n",
    "# Input from the user\n",
    "rows = int(input(\"Enter the number of rows for the pattern: \"))\n",
    "print_pattern(rows)"
   ]
  },
  {
   "cell_type": "code",
   "execution_count": 164,
   "id": "05e5718e",
   "metadata": {},
   "outputs": [
    {
     "data": {
      "text/plain": [
       "'\\n    * \\n   * * \\n  * * * \\n * * * * \\n* * * * * \\n'"
      ]
     },
     "execution_count": 164,
     "metadata": {},
     "output_type": "execute_result"
    }
   ],
   "source": [
    "# Q98. Write a python program to print below pattern.\n",
    "'''\n",
    "    * \n",
    "   * * \n",
    "  * * * \n",
    " * * * * \n",
    "* * * * * \n",
    "'''"
   ]
  },
  {
   "cell_type": "code",
   "execution_count": 173,
   "id": "1fa9b906",
   "metadata": {},
   "outputs": [
    {
     "name": "stdout",
     "output_type": "stream",
     "text": [
      "Enter the number of rows for the pattern: 5\n",
      "    * \n",
      "   * * \n",
      "  * * * \n",
      " * * * * \n",
      "* * * * * \n"
     ]
    }
   ],
   "source": [
    "def print_pattern(n):\n",
    "    for i in range(1, n + 1):\n",
    "        spaces = ' ' * (n - i)\n",
    "        stars = '* ' * i\n",
    "        print(spaces + stars)\n",
    "\n",
    "# Input from the user\n",
    "rows = int(input(\"Enter the number of rows for the pattern: \"))\n",
    "print_pattern(rows)"
   ]
  },
  {
   "cell_type": "code",
   "execution_count": 165,
   "id": "39328e36",
   "metadata": {},
   "outputs": [
    {
     "data": {
      "text/plain": [
       "'\\n1 \\n1 2 \\n1 2 3 \\n1 2 3 4 \\n1 2 3 4 5\\n'"
      ]
     },
     "execution_count": 165,
     "metadata": {},
     "output_type": "execute_result"
    }
   ],
   "source": [
    "# Q99. Write a python program to print below pattern.\n",
    "'''\n",
    "1 \n",
    "1 2 \n",
    "1 2 3 \n",
    "1 2 3 4 \n",
    "1 2 3 4 5\n",
    "'''"
   ]
  },
  {
   "cell_type": "code",
   "execution_count": 169,
   "id": "1269e18c",
   "metadata": {},
   "outputs": [
    {
     "name": "stdout",
     "output_type": "stream",
     "text": [
      "Enter the number of rows for the pattern: 5\n",
      "1\n",
      "1 2\n",
      "1 2 3\n",
      "1 2 3 4\n",
      "1 2 3 4 5\n"
     ]
    }
   ],
   "source": [
    "def print_pattern(n):\n",
    "    for i in range(1, n + 1):\n",
    "        numbers = ' '.join(map(str, range(1, i + 1)))\n",
    "        print(numbers)\n",
    "\n",
    "# Input from the user\n",
    "rows = int(input(\"Enter the number of rows for the pattern: \"))\n",
    "print_pattern(rows)"
   ]
  },
  {
   "cell_type": "code",
   "execution_count": 166,
   "id": "43f5ebb7",
   "metadata": {},
   "outputs": [
    {
     "data": {
      "text/plain": [
       "'\\nA \\nB B \\nC C C \\nD D D D \\nE E E E E \\n'"
      ]
     },
     "execution_count": 166,
     "metadata": {},
     "output_type": "execute_result"
    }
   ],
   "source": [
    "# Q100. Write a python program to print below pattern.\n",
    "'''\n",
    "A \n",
    "B B \n",
    "C C C \n",
    "D D D D \n",
    "E E E E E \n",
    "'''"
   ]
  },
  {
   "cell_type": "code",
   "execution_count": 168,
   "id": "4a06ef5f",
   "metadata": {},
   "outputs": [
    {
     "name": "stdout",
     "output_type": "stream",
     "text": [
      "Enter the number of rows for the pattern: 5\n",
      "A\n",
      "BB\n",
      "CCC\n",
      "DDDD\n",
      "EEEEE\n"
     ]
    }
   ],
   "source": [
    "def print_pattern(n):\n",
    "    for i in range(ord('A'), ord('A') + n):\n",
    "        letters = chr(i) * (i - ord('A') + 1)\n",
    "        print(letters)\n",
    "\n",
    "# Input from the user\n",
    "rows = int(input(\"Enter the number of rows for the pattern: \"))\n",
    "print_pattern(rows)"
   ]
  }
 ],
 "metadata": {
  "kernelspec": {
   "display_name": "Python 3 (ipykernel)",
   "language": "python",
   "name": "python3"
  },
  "language_info": {
   "codemirror_mode": {
    "name": "ipython",
    "version": 3
   },
   "file_extension": ".py",
   "mimetype": "text/x-python",
   "name": "python",
   "nbconvert_exporter": "python",
   "pygments_lexer": "ipython3",
   "version": "3.9.12"
  }
 },
 "nbformat": 4,
 "nbformat_minor": 5
}
